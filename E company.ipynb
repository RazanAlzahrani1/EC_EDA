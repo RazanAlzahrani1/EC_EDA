{
 "cells": [
  {
   "cell_type": "markdown",
   "id": "a6aa49ae",
   "metadata": {},
   "source": [
    "## PRODUCT SALES FOR E COMPANY\n",
    "\n",
    "### appendix \n",
    "-click on links: \n",
    "\n",
    "> <a href=#imports>Import libraries</a>\n",
    "\n",
    "> <a href=#load>Load data</a>\n",
    "\n",
    "> <a href=#formating>Data formating</a>\n",
    "\n",
    "> <a href=#valid>validate assumption</a>\n",
    "\n",
    "> <a href=#EDA>Explratory data analysis</a>\n",
    "\n",
    "> <a href=#Questions>Questions</a>\n",
    "\n",
    "> <a href=#Qun>Qunclosion</a>"
   ]
  },
  {
   "cell_type": "markdown",
   "id": "463b1c22",
   "metadata": {},
   "source": [
    "# <a name=imports> Import libraries</a>"
   ]
  },
  {
   "cell_type": "code",
   "execution_count": 1,
   "id": "ef8bdd1f",
   "metadata": {},
   "outputs": [],
   "source": [
    "import pandas as pd \n",
    "import numpy as np\n",
    "import matplotlib.pyplot as plt\n",
    "import seaborn as sns\n",
    "from datetime import datetime\n",
    "%matplotlib inline "
   ]
  },
  {
   "cell_type": "markdown",
   "id": "ded032ba",
   "metadata": {},
   "source": [
    "# <a name=load>Load data</a>"
   ]
  },
  {
   "cell_type": "code",
   "execution_count": 2,
   "id": "1ee7d5a5",
   "metadata": {},
   "outputs": [],
   "source": [
    "df = pd.read_csv('Sales_April_2019.csv',\n",
    "                 na_values =' ' ,\n",
    "                 delimiter=';'# to show data without (;)\n",
    "                 #, index_col = 0\n",
    "                 )"
   ]
  },
  {
   "cell_type": "code",
   "execution_count": 3,
   "id": "d09c456b",
   "metadata": {},
   "outputs": [
    {
     "data": {
      "text/html": [
       "<div>\n",
       "<style scoped>\n",
       "    .dataframe tbody tr th:only-of-type {\n",
       "        vertical-align: middle;\n",
       "    }\n",
       "\n",
       "    .dataframe tbody tr th {\n",
       "        vertical-align: top;\n",
       "    }\n",
       "\n",
       "    .dataframe thead th {\n",
       "        text-align: right;\n",
       "    }\n",
       "</style>\n",
       "<table border=\"1\" class=\"dataframe\">\n",
       "  <thead>\n",
       "    <tr style=\"text-align: right;\">\n",
       "      <th></th>\n",
       "      <th>Order ID</th>\n",
       "      <th>Product</th>\n",
       "      <th>Quantity Ordered</th>\n",
       "      <th>Price Each</th>\n",
       "      <th>Order Date</th>\n",
       "      <th>Purchase Address</th>\n",
       "    </tr>\n",
       "  </thead>\n",
       "  <tbody>\n",
       "    <tr>\n",
       "      <th>0</th>\n",
       "      <td>176558</td>\n",
       "      <td>USB-C Charging Cable</td>\n",
       "      <td>2</td>\n",
       "      <td>11.95</td>\n",
       "      <td>04/19/19 08:46</td>\n",
       "      <td>917 1st St, Dallas, TX 75001</td>\n",
       "    </tr>\n",
       "    <tr>\n",
       "      <th>1</th>\n",
       "      <td>NaN</td>\n",
       "      <td>NaN</td>\n",
       "      <td>NaN</td>\n",
       "      <td>NaN</td>\n",
       "      <td>NaN</td>\n",
       "      <td>NaN</td>\n",
       "    </tr>\n",
       "    <tr>\n",
       "      <th>2</th>\n",
       "      <td>176559</td>\n",
       "      <td>Bose SoundSport Headphones</td>\n",
       "      <td>1</td>\n",
       "      <td>99.99</td>\n",
       "      <td>04/07/19 22:30</td>\n",
       "      <td>682 Chestnut St, Boston, MA 02215</td>\n",
       "    </tr>\n",
       "    <tr>\n",
       "      <th>3</th>\n",
       "      <td>176560</td>\n",
       "      <td>Google Phone</td>\n",
       "      <td>1</td>\n",
       "      <td>600</td>\n",
       "      <td>04/12/19 14:38</td>\n",
       "      <td>669 Spruce St, Los Angeles, CA 90001</td>\n",
       "    </tr>\n",
       "    <tr>\n",
       "      <th>4</th>\n",
       "      <td>176560</td>\n",
       "      <td>Wired Headphones</td>\n",
       "      <td>1</td>\n",
       "      <td>11.99</td>\n",
       "      <td>04/12/19 14:38</td>\n",
       "      <td>669 Spruce St, Los Angeles, CA 90001</td>\n",
       "    </tr>\n",
       "  </tbody>\n",
       "</table>\n",
       "</div>"
      ],
      "text/plain": [
       "  Order ID                     Product Quantity Ordered Price Each  \\\n",
       "0   176558        USB-C Charging Cable                2      11.95   \n",
       "1      NaN                         NaN              NaN        NaN   \n",
       "2   176559  Bose SoundSport Headphones                1      99.99   \n",
       "3   176560                Google Phone                1        600   \n",
       "4   176560            Wired Headphones                1      11.99   \n",
       "\n",
       "       Order Date                      Purchase Address  \n",
       "0  04/19/19 08:46          917 1st St, Dallas, TX 75001  \n",
       "1             NaN                                   NaN  \n",
       "2  04/07/19 22:30     682 Chestnut St, Boston, MA 02215  \n",
       "3  04/12/19 14:38  669 Spruce St, Los Angeles, CA 90001  \n",
       "4  04/12/19 14:38  669 Spruce St, Los Angeles, CA 90001  "
      ]
     },
     "execution_count": 3,
     "metadata": {},
     "output_type": "execute_result"
    }
   ],
   "source": [
    "df.head()"
   ]
  },
  {
   "cell_type": "code",
   "execution_count": 4,
   "id": "3e1efa94",
   "metadata": {
    "scrolled": true
   },
   "outputs": [
    {
     "name": "stdout",
     "output_type": "stream",
     "text": [
      "<class 'pandas.core.frame.DataFrame'>\n",
      "RangeIndex: 18383 entries, 0 to 18382\n",
      "Data columns (total 6 columns):\n",
      " #   Column            Non-Null Count  Dtype \n",
      "---  ------            --------------  ----- \n",
      " 0   Order ID          18324 non-null  object\n",
      " 1   Product           18324 non-null  object\n",
      " 2   Quantity Ordered  18324 non-null  object\n",
      " 3   Price Each        18324 non-null  object\n",
      " 4   Order Date        18324 non-null  object\n",
      " 5   Purchase Address  18324 non-null  object\n",
      "dtypes: object(6)\n",
      "memory usage: 861.8+ KB\n"
     ]
    }
   ],
   "source": [
    "df.info()"
   ]
  },
  {
   "cell_type": "markdown",
   "id": "96455fcf",
   "metadata": {},
   "source": [
    "# <a name=formating>Data formating</a>"
   ]
  },
  {
   "cell_type": "code",
   "execution_count": 5,
   "id": "27a2373f",
   "metadata": {},
   "outputs": [],
   "source": [
    "s = pd.Series(df['Order ID'],dtype='Int64')"
   ]
  },
  {
   "cell_type": "code",
   "execution_count": 6,
   "id": "a5951072",
   "metadata": {},
   "outputs": [],
   "source": [
    "# i need to change data format of four colums :order id ,Order Date, Quantity Ordered,Price Each \n",
    "df['Order ID'] = pd.to_numeric(s,downcast='integer' ,errors ='coerce')\n"
   ]
  },
  {
   "cell_type": "code",
   "execution_count": 7,
   "id": "14d2f729",
   "metadata": {},
   "outputs": [
    {
     "data": {
      "text/html": [
       "<div>\n",
       "<style scoped>\n",
       "    .dataframe tbody tr th:only-of-type {\n",
       "        vertical-align: middle;\n",
       "    }\n",
       "\n",
       "    .dataframe tbody tr th {\n",
       "        vertical-align: top;\n",
       "    }\n",
       "\n",
       "    .dataframe thead th {\n",
       "        text-align: right;\n",
       "    }\n",
       "</style>\n",
       "<table border=\"1\" class=\"dataframe\">\n",
       "  <thead>\n",
       "    <tr style=\"text-align: right;\">\n",
       "      <th></th>\n",
       "      <th>Order ID</th>\n",
       "      <th>Product</th>\n",
       "      <th>Quantity Ordered</th>\n",
       "      <th>Price Each</th>\n",
       "      <th>Order Date</th>\n",
       "      <th>Purchase Address</th>\n",
       "      <th>Date</th>\n",
       "    </tr>\n",
       "  </thead>\n",
       "  <tbody>\n",
       "    <tr>\n",
       "      <th>0</th>\n",
       "      <td>176558.0</td>\n",
       "      <td>USB-C Charging Cable</td>\n",
       "      <td>2</td>\n",
       "      <td>11.95</td>\n",
       "      <td>04/19/19 08:46</td>\n",
       "      <td>917 1st St, Dallas, TX 75001</td>\n",
       "      <td>04/19/19</td>\n",
       "    </tr>\n",
       "    <tr>\n",
       "      <th>1</th>\n",
       "      <td>NaN</td>\n",
       "      <td>NaN</td>\n",
       "      <td>NaN</td>\n",
       "      <td>NaN</td>\n",
       "      <td>NaN</td>\n",
       "      <td>NaN</td>\n",
       "      <td>NaN</td>\n",
       "    </tr>\n",
       "    <tr>\n",
       "      <th>2</th>\n",
       "      <td>176559.0</td>\n",
       "      <td>Bose SoundSport Headphones</td>\n",
       "      <td>1</td>\n",
       "      <td>99.99</td>\n",
       "      <td>04/07/19 22:30</td>\n",
       "      <td>682 Chestnut St, Boston, MA 02215</td>\n",
       "      <td>04/07/19</td>\n",
       "    </tr>\n",
       "    <tr>\n",
       "      <th>3</th>\n",
       "      <td>176560.0</td>\n",
       "      <td>Google Phone</td>\n",
       "      <td>1</td>\n",
       "      <td>600</td>\n",
       "      <td>04/12/19 14:38</td>\n",
       "      <td>669 Spruce St, Los Angeles, CA 90001</td>\n",
       "      <td>04/12/19</td>\n",
       "    </tr>\n",
       "    <tr>\n",
       "      <th>4</th>\n",
       "      <td>176560.0</td>\n",
       "      <td>Wired Headphones</td>\n",
       "      <td>1</td>\n",
       "      <td>11.99</td>\n",
       "      <td>04/12/19 14:38</td>\n",
       "      <td>669 Spruce St, Los Angeles, CA 90001</td>\n",
       "      <td>04/12/19</td>\n",
       "    </tr>\n",
       "  </tbody>\n",
       "</table>\n",
       "</div>"
      ],
      "text/plain": [
       "   Order ID                     Product Quantity Ordered Price Each  \\\n",
       "0  176558.0        USB-C Charging Cable                2      11.95   \n",
       "1       NaN                         NaN              NaN        NaN   \n",
       "2  176559.0  Bose SoundSport Headphones                1      99.99   \n",
       "3  176560.0                Google Phone                1        600   \n",
       "4  176560.0            Wired Headphones                1      11.99   \n",
       "\n",
       "       Order Date                      Purchase Address      Date  \n",
       "0  04/19/19 08:46          917 1st St, Dallas, TX 75001  04/19/19  \n",
       "1             NaN                                   NaN       NaN  \n",
       "2  04/07/19 22:30     682 Chestnut St, Boston, MA 02215  04/07/19  \n",
       "3  04/12/19 14:38  669 Spruce St, Los Angeles, CA 90001  04/12/19  \n",
       "4  04/12/19 14:38  669 Spruce St, Los Angeles, CA 90001  04/12/19  "
      ]
     },
     "execution_count": 7,
     "metadata": {},
     "output_type": "execute_result"
    }
   ],
   "source": [
    "#put date in new col\n",
    "df['Date'] = df['Order Date'].str.split(' ').str[0]\n",
    "df.head()"
   ]
  },
  {
   "cell_type": "code",
   "execution_count": 8,
   "id": "91ef9cf3",
   "metadata": {
    "scrolled": false
   },
   "outputs": [],
   "source": [
    "df['Date'] = pd.to_datetime(df['Date'],format='%m/%d/%y', errors='coerce')"
   ]
  },
  {
   "cell_type": "code",
   "execution_count": 9,
   "id": "18cdf1e6",
   "metadata": {},
   "outputs": [],
   "source": [
    "s = pd.Series(df['Quantity Ordered'],dtype='Int64')"
   ]
  },
  {
   "cell_type": "code",
   "execution_count": 10,
   "id": "7d4c26f9",
   "metadata": {},
   "outputs": [],
   "source": [
    "df['Quantity Ordered'] = pd.to_numeric(s,downcast='integer', errors ='coerce')"
   ]
  },
  {
   "cell_type": "code",
   "execution_count": 11,
   "id": "4998122e",
   "metadata": {},
   "outputs": [],
   "source": [
    "df['Price Each'] = pd.to_numeric(df['Price Each'], errors ='coerce')"
   ]
  },
  {
   "cell_type": "code",
   "execution_count": 12,
   "id": "15f91ae7",
   "metadata": {},
   "outputs": [
    {
     "name": "stdout",
     "output_type": "stream",
     "text": [
      "<class 'pandas.core.frame.DataFrame'>\n",
      "RangeIndex: 18383 entries, 0 to 18382\n",
      "Data columns (total 7 columns):\n",
      " #   Column            Non-Null Count  Dtype         \n",
      "---  ------            --------------  -----         \n",
      " 0   Order ID          18289 non-null  float64       \n",
      " 1   Product           18324 non-null  object        \n",
      " 2   Quantity Ordered  18289 non-null  float64       \n",
      " 3   Price Each        18289 non-null  float64       \n",
      " 4   Order Date        18324 non-null  object        \n",
      " 5   Purchase Address  18324 non-null  object        \n",
      " 6   Date              18289 non-null  datetime64[ns]\n",
      "dtypes: datetime64[ns](1), float64(3), object(3)\n",
      "memory usage: 1005.4+ KB\n"
     ]
    }
   ],
   "source": [
    "df.info()"
   ]
  },
  {
   "cell_type": "code",
   "execution_count": 13,
   "id": "7200c05e",
   "metadata": {},
   "outputs": [
    {
     "name": "stdout",
     "output_type": "stream",
     "text": [
      "Order ID - 1%\n",
      "Product - 0%\n",
      "Quantity Ordered - 1%\n",
      "Price Each - 1%\n",
      "Order Date - 0%\n",
      "Purchase Address - 0%\n",
      "Date - 1%\n"
     ]
    }
   ],
   "source": [
    "for col in df.columns:\n",
    "    pct_missing = np.mean(df[col].isnull())\n",
    "    print('{} - {}%'.format(col, round(pct_missing*100)))"
   ]
  },
  {
   "cell_type": "code",
   "execution_count": 14,
   "id": "2eaa8a4c",
   "metadata": {},
   "outputs": [
    {
     "name": "stdout",
     "output_type": "stream",
     "text": [
      "193511.0    4\n",
      "178158.0    4\n",
      "191742.0    3\n",
      "176797.0    3\n",
      "182523.0    3\n",
      "           ..\n",
      "176606.0    1\n",
      "180561.0    1\n",
      "182550.0    1\n",
      "184706.0    1\n",
      "184345.0    1\n",
      "Name: Order ID, Length: 17537, dtype: int64\n",
      "Lightning Charging Cable      2201\n",
      "USB-C Charging Cable          2079\n",
      "AA Batteries (4-pack)         2063\n",
      "AAA Batteries (4-pack)        1989\n",
      "Wired Headphones              1890\n",
      "Apple Airpods Headphones      1515\n",
      "Bose SoundSport Headphones    1280\n",
      "27in FHD Monitor               734\n",
      "iPhone                         693\n",
      "34in Ultrawide Monitor         650\n",
      "Google Phone                   581\n",
      "27in 4K Gaming Monitor         563\n",
      "Flatscreen TV                  458\n",
      "Macbook Pro Laptop             453\n",
      "ThinkPad Laptop                392\n",
      "20in Monitor                   390\n",
      "Vareebadd Phone                220\n",
      "LG Dryer                        77\n",
      "LG Washing Machine              61\n",
      "Product                         35\n",
      "Name: Product, dtype: int64\n",
      "1.0    16558\n",
      "2.0     1328\n",
      "3.0      299\n",
      "4.0       72\n",
      "5.0       24\n",
      "6.0        7\n",
      "7.0        1\n",
      "Name: Quantity Ordered, dtype: int64\n",
      "14.95      2201\n",
      "11.95      2079\n",
      "3.84       2063\n",
      "2.99       1989\n",
      "11.99      1890\n",
      "150.00     1515\n",
      "99.99      1280\n",
      "149.99      734\n",
      "600.00      719\n",
      "700.00      693\n",
      "379.99      650\n",
      "389.99      563\n",
      "300.00      458\n",
      "1700.00     453\n",
      "999.99      392\n",
      "109.99      390\n",
      "400.00      220\n",
      "Name: Price Each, dtype: int64\n",
      "Order Date        35\n",
      "04/02/19 13:24     7\n",
      "04/04/19 11:09     6\n",
      "04/25/19 15:27     6\n",
      "04/11/19 17:48     6\n",
      "                  ..\n",
      "04/22/19 14:05     1\n",
      "04/14/19 21:34     1\n",
      "04/17/19 05:43     1\n",
      "04/15/19 18:10     1\n",
      "04/26/19 09:11     1\n",
      "Name: Order Date, Length: 13584, dtype: int64\n",
      "Purchase Address                          35\n",
      "197 Center St, San Francisco, CA 94016     4\n",
      "821 Elm St, Austin, TX 73301               4\n",
      "437 Spruce St, Los Angeles, CA 90001       3\n",
      "154 Dogwood St, Los Angeles, CA 90001      3\n",
      "                                          ..\n",
      "537 1st St, Atlanta, GA 30301              1\n",
      "892 10th St, Austin, TX 73301              1\n",
      "234 Maple St, New York City, NY 10001      1\n",
      "825 Main St, San Francisco, CA 94016       1\n",
      "117 Willow St, Los Angeles, CA 90001       1\n",
      "Name: Purchase Address, Length: 17120, dtype: int64\n",
      "2019-04-21    672\n",
      "2019-04-18    660\n",
      "2019-04-17    655\n",
      "2019-04-13    635\n",
      "2019-04-10    631\n",
      "2019-04-27    631\n",
      "2019-04-24    630\n",
      "2019-04-30    628\n",
      "2019-04-11    627\n",
      "2019-04-04    627\n",
      "2019-04-12    623\n",
      "2019-04-09    618\n",
      "2019-04-06    613\n",
      "2019-04-16    612\n",
      "2019-04-05    611\n",
      "2019-04-08    610\n",
      "2019-04-14    608\n",
      "2019-04-03    599\n",
      "2019-04-28    592\n",
      "2019-04-25    591\n",
      "2019-04-29    590\n",
      "2019-04-23    589\n",
      "2019-04-02    588\n",
      "2019-04-01    587\n",
      "2019-04-20    587\n",
      "2019-04-15    585\n",
      "2019-04-26    578\n",
      "2019-04-07    572\n",
      "2019-04-19    562\n",
      "2019-04-22    550\n",
      "2019-05-01     28\n",
      "Name: Date, dtype: int64\n"
     ]
    }
   ],
   "source": [
    "# for loop to see duplicated data \n",
    "for col in df.columns:\n",
    "    \n",
    "    print(df[col].value_counts())"
   ]
  },
  {
   "cell_type": "code",
   "execution_count": 15,
   "id": "4f9f15ef",
   "metadata": {},
   "outputs": [
    {
     "data": {
      "text/plain": [
       "Lightning Charging Cable      2201\n",
       "USB-C Charging Cable          2079\n",
       "AA Batteries (4-pack)         2063\n",
       "AAA Batteries (4-pack)        1989\n",
       "Wired Headphones              1890\n",
       "Apple Airpods Headphones      1515\n",
       "Bose SoundSport Headphones    1280\n",
       "27in FHD Monitor               734\n",
       "iPhone                         693\n",
       "34in Ultrawide Monitor         650\n",
       "Google Phone                   581\n",
       "27in 4K Gaming Monitor         563\n",
       "Flatscreen TV                  458\n",
       "Macbook Pro Laptop             453\n",
       "ThinkPad Laptop                392\n",
       "20in Monitor                   390\n",
       "Vareebadd Phone                220\n",
       "LG Dryer                        77\n",
       "LG Washing Machine              61\n",
       "Product                         35\n",
       "Name: Product, dtype: int64"
      ]
     },
     "execution_count": 15,
     "metadata": {},
     "output_type": "execute_result"
    }
   ],
   "source": [
    "df['Product'].value_counts()"
   ]
  },
  {
   "cell_type": "markdown",
   "id": "b7aff25c",
   "metadata": {},
   "source": [
    "# <a name=valid>validate assumption</a>"
   ]
  },
  {
   "cell_type": "code",
   "execution_count": 16,
   "id": "097bf53b",
   "metadata": {
    "scrolled": true
   },
   "outputs": [
    {
     "name": "stdout",
     "output_type": "stream",
     "text": [
      "Order ID  :  [176558.     nan 176559. ... 194092. 194093. 194094.]\n",
      " \n",
      "Product  :  ['USB-C Charging Cable' nan 'Bose SoundSport Headphones' 'Google Phone'\n",
      " 'Wired Headphones' 'Macbook Pro Laptop' 'Lightning Charging Cable'\n",
      " '27in 4K Gaming Monitor' 'AA Batteries (4-pack)'\n",
      " 'Apple Airpods Headphones' 'AAA Batteries (4-pack)' 'iPhone'\n",
      " 'Flatscreen TV' '27in FHD Monitor' '20in Monitor' 'LG Dryer'\n",
      " 'ThinkPad Laptop' 'Vareebadd Phone' 'LG Washing Machine'\n",
      " '34in Ultrawide Monitor' 'Product']\n",
      " \n",
      "Quantity Ordered  :  [ 2. nan  1.  3.  5.  4.  7.  6.]\n",
      " \n",
      "Price Each  :  [  11.95     nan   99.99  600.     11.99 1700.     14.95  389.99    3.84\n",
      "  150.      2.99  700.    300.    149.99  109.99  999.99  400.    379.99]\n",
      " \n",
      "Order Date  :  ['04/19/19 08:46' nan '04/07/19 22:30' ... '04/15/19 16:02'\n",
      " '04/14/19 15:09' '04/18/19 11:08']\n",
      " \n",
      "Purchase Address  :  ['917 1st St, Dallas, TX 75001' nan '682 Chestnut St, Boston, MA 02215'\n",
      " ... '347 Sunset St, San Francisco, CA 94016'\n",
      " '835 Lake St, Portland, OR 97035' '354 North St, Boston, MA 02215']\n",
      " \n",
      "Date  :  ['2019-04-19T00:00:00.000000000'                           'NaT'\n",
      " '2019-04-07T00:00:00.000000000' '2019-04-12T00:00:00.000000000'\n",
      " '2019-04-30T00:00:00.000000000' '2019-04-29T00:00:00.000000000'\n",
      " '2019-04-02T00:00:00.000000000' '2019-04-24T00:00:00.000000000'\n",
      " '2019-04-08T00:00:00.000000000' '2019-04-18T00:00:00.000000000'\n",
      " '2019-04-15T00:00:00.000000000' '2019-04-16T00:00:00.000000000'\n",
      " '2019-04-22T00:00:00.000000000' '2019-04-04T00:00:00.000000000'\n",
      " '2019-04-27T00:00:00.000000000' '2019-04-03T00:00:00.000000000'\n",
      " '2019-04-28T00:00:00.000000000' '2019-04-09T00:00:00.000000000'\n",
      " '2019-04-11T00:00:00.000000000' '2019-04-05T00:00:00.000000000'\n",
      " '2019-04-20T00:00:00.000000000' '2019-04-10T00:00:00.000000000'\n",
      " '2019-04-21T00:00:00.000000000' '2019-04-17T00:00:00.000000000'\n",
      " '2019-04-01T00:00:00.000000000' '2019-04-26T00:00:00.000000000'\n",
      " '2019-04-25T00:00:00.000000000' '2019-04-13T00:00:00.000000000'\n",
      " '2019-04-14T00:00:00.000000000' '2019-04-23T00:00:00.000000000'\n",
      " '2019-04-06T00:00:00.000000000' '2019-05-01T00:00:00.000000000']\n",
      " \n"
     ]
    }
   ],
   "source": [
    "for col in df.columns:\n",
    "    uniq_val = df[col].unique()\n",
    "    print(col,' : ',uniq_val)\n",
    "    print(' ')"
   ]
  },
  {
   "cell_type": "code",
   "execution_count": 17,
   "id": "e6cb0e8a",
   "metadata": {},
   "outputs": [],
   "source": [
    "# to detect num of missing values \"Null values\" in all dataset using for loop\n",
    "\n",
    "#size = len(df)\n",
    "#for col in df.columns:\n",
    " #   na_val = sum(df[col].isna())\n",
    "  #  print(col,' : ',na_val,' null value out of ', size , 'value')\n",
    "        "
   ]
  },
  {
   "cell_type": "markdown",
   "id": "a13c1e64",
   "metadata": {},
   "source": [
    "# <a name=EDA>Explratory data analysis(EDA)</a>"
   ]
  },
  {
   "cell_type": "code",
   "execution_count": 18,
   "id": "8a6035e6",
   "metadata": {},
   "outputs": [
    {
     "data": {
      "text/html": [
       "<div>\n",
       "<style scoped>\n",
       "    .dataframe tbody tr th:only-of-type {\n",
       "        vertical-align: middle;\n",
       "    }\n",
       "\n",
       "    .dataframe tbody tr th {\n",
       "        vertical-align: top;\n",
       "    }\n",
       "\n",
       "    .dataframe thead th {\n",
       "        text-align: right;\n",
       "    }\n",
       "</style>\n",
       "<table border=\"1\" class=\"dataframe\">\n",
       "  <thead>\n",
       "    <tr style=\"text-align: right;\">\n",
       "      <th></th>\n",
       "      <th>Order ID</th>\n",
       "      <th>Quantity Ordered</th>\n",
       "      <th>Price Each</th>\n",
       "    </tr>\n",
       "  </thead>\n",
       "  <tbody>\n",
       "    <tr>\n",
       "      <th>count</th>\n",
       "      <td>18289.000000</td>\n",
       "      <td>18289.00000</td>\n",
       "      <td>18289.000000</td>\n",
       "    </tr>\n",
       "    <tr>\n",
       "      <th>mean</th>\n",
       "      <td>185328.816720</td>\n",
       "      <td>1.12461</td>\n",
       "      <td>184.431026</td>\n",
       "    </tr>\n",
       "    <tr>\n",
       "      <th>std</th>\n",
       "      <td>5061.520829</td>\n",
       "      <td>0.43641</td>\n",
       "      <td>330.913377</td>\n",
       "    </tr>\n",
       "    <tr>\n",
       "      <th>min</th>\n",
       "      <td>176558.000000</td>\n",
       "      <td>1.00000</td>\n",
       "      <td>2.990000</td>\n",
       "    </tr>\n",
       "    <tr>\n",
       "      <th>25%</th>\n",
       "      <td>180952.000000</td>\n",
       "      <td>1.00000</td>\n",
       "      <td>11.950000</td>\n",
       "    </tr>\n",
       "    <tr>\n",
       "      <th>50%</th>\n",
       "      <td>185328.000000</td>\n",
       "      <td>1.00000</td>\n",
       "      <td>14.950000</td>\n",
       "    </tr>\n",
       "    <tr>\n",
       "      <th>75%</th>\n",
       "      <td>189706.000000</td>\n",
       "      <td>1.00000</td>\n",
       "      <td>150.000000</td>\n",
       "    </tr>\n",
       "    <tr>\n",
       "      <th>max</th>\n",
       "      <td>194094.000000</td>\n",
       "      <td>7.00000</td>\n",
       "      <td>1700.000000</td>\n",
       "    </tr>\n",
       "  </tbody>\n",
       "</table>\n",
       "</div>"
      ],
      "text/plain": [
       "            Order ID  Quantity Ordered    Price Each\n",
       "count   18289.000000       18289.00000  18289.000000\n",
       "mean   185328.816720           1.12461    184.431026\n",
       "std      5061.520829           0.43641    330.913377\n",
       "min    176558.000000           1.00000      2.990000\n",
       "25%    180952.000000           1.00000     11.950000\n",
       "50%    185328.000000           1.00000     14.950000\n",
       "75%    189706.000000           1.00000    150.000000\n",
       "max    194094.000000           7.00000   1700.000000"
      ]
     },
     "execution_count": 18,
     "metadata": {},
     "output_type": "execute_result"
    }
   ],
   "source": [
    "df.describe()"
   ]
  },
  {
   "cell_type": "code",
   "execution_count": 20,
   "id": "80402427",
   "metadata": {},
   "outputs": [
    {
     "data": {
      "text/plain": [
       "Order ID            94\n",
       "Product             59\n",
       "Quantity Ordered    94\n",
       "Price Each          94\n",
       "Order Date          59\n",
       "Purchase Address    59\n",
       "Date                94\n",
       "dtype: int64"
      ]
     },
     "execution_count": 20,
     "metadata": {},
     "output_type": "execute_result"
    }
   ],
   "source": [
    "df.isna().sum(axis=0)"
   ]
  },
  {
   "cell_type": "code",
   "execution_count": 21,
   "id": "25b91e86",
   "metadata": {},
   "outputs": [
    {
     "data": {
      "text/plain": [
       "(18383, 7)"
      ]
     },
     "execution_count": 21,
     "metadata": {},
     "output_type": "execute_result"
    }
   ],
   "source": [
    "df.shape"
   ]
  },
  {
   "cell_type": "code",
   "execution_count": 22,
   "id": "8d810d07",
   "metadata": {},
   "outputs": [],
   "source": [
    "df.dropna(how='all', inplace=True)"
   ]
  },
  {
   "cell_type": "code",
   "execution_count": 23,
   "id": "084ee67a",
   "metadata": {},
   "outputs": [
    {
     "data": {
      "text/plain": [
       "(18324, 7)"
      ]
     },
     "execution_count": 23,
     "metadata": {},
     "output_type": "execute_result"
    }
   ],
   "source": [
    "df.shape"
   ]
  },
  {
   "cell_type": "code",
   "execution_count": 24,
   "id": "137e0aaa",
   "metadata": {},
   "outputs": [
    {
     "data": {
      "text/html": [
       "<div>\n",
       "<style scoped>\n",
       "    .dataframe tbody tr th:only-of-type {\n",
       "        vertical-align: middle;\n",
       "    }\n",
       "\n",
       "    .dataframe tbody tr th {\n",
       "        vertical-align: top;\n",
       "    }\n",
       "\n",
       "    .dataframe thead th {\n",
       "        text-align: right;\n",
       "    }\n",
       "</style>\n",
       "<table border=\"1\" class=\"dataframe\">\n",
       "  <thead>\n",
       "    <tr style=\"text-align: right;\">\n",
       "      <th></th>\n",
       "      <th>Order ID</th>\n",
       "      <th>Product</th>\n",
       "      <th>Quantity Ordered</th>\n",
       "      <th>Price Each</th>\n",
       "      <th>Order Date</th>\n",
       "      <th>Purchase Address</th>\n",
       "      <th>Date</th>\n",
       "    </tr>\n",
       "  </thead>\n",
       "  <tbody>\n",
       "    <tr>\n",
       "      <th>0</th>\n",
       "      <td>176558.0</td>\n",
       "      <td>USB-C Charging Cable</td>\n",
       "      <td>2.0</td>\n",
       "      <td>11.95</td>\n",
       "      <td>04/19/19 08:46</td>\n",
       "      <td>917 1st St, Dallas, TX 75001</td>\n",
       "      <td>2019-04-19</td>\n",
       "    </tr>\n",
       "    <tr>\n",
       "      <th>2</th>\n",
       "      <td>176559.0</td>\n",
       "      <td>Bose SoundSport Headphones</td>\n",
       "      <td>1.0</td>\n",
       "      <td>99.99</td>\n",
       "      <td>04/07/19 22:30</td>\n",
       "      <td>682 Chestnut St, Boston, MA 02215</td>\n",
       "      <td>2019-04-07</td>\n",
       "    </tr>\n",
       "    <tr>\n",
       "      <th>3</th>\n",
       "      <td>176560.0</td>\n",
       "      <td>Google Phone</td>\n",
       "      <td>1.0</td>\n",
       "      <td>600.00</td>\n",
       "      <td>04/12/19 14:38</td>\n",
       "      <td>669 Spruce St, Los Angeles, CA 90001</td>\n",
       "      <td>2019-04-12</td>\n",
       "    </tr>\n",
       "    <tr>\n",
       "      <th>4</th>\n",
       "      <td>176560.0</td>\n",
       "      <td>Wired Headphones</td>\n",
       "      <td>1.0</td>\n",
       "      <td>11.99</td>\n",
       "      <td>04/12/19 14:38</td>\n",
       "      <td>669 Spruce St, Los Angeles, CA 90001</td>\n",
       "      <td>2019-04-12</td>\n",
       "    </tr>\n",
       "    <tr>\n",
       "      <th>5</th>\n",
       "      <td>176561.0</td>\n",
       "      <td>Wired Headphones</td>\n",
       "      <td>1.0</td>\n",
       "      <td>11.99</td>\n",
       "      <td>04/30/19 09:27</td>\n",
       "      <td>333 8th St, Los Angeles, CA 90001</td>\n",
       "      <td>2019-04-30</td>\n",
       "    </tr>\n",
       "    <tr>\n",
       "      <th>...</th>\n",
       "      <td>...</td>\n",
       "      <td>...</td>\n",
       "      <td>...</td>\n",
       "      <td>...</td>\n",
       "      <td>...</td>\n",
       "      <td>...</td>\n",
       "      <td>...</td>\n",
       "    </tr>\n",
       "    <tr>\n",
       "      <th>18378</th>\n",
       "      <td>194090.0</td>\n",
       "      <td>Google Phone</td>\n",
       "      <td>1.0</td>\n",
       "      <td>600.00</td>\n",
       "      <td>04/08/19 17:11</td>\n",
       "      <td>177 Jackson St, Los Angeles, CA 90001</td>\n",
       "      <td>2019-04-08</td>\n",
       "    </tr>\n",
       "    <tr>\n",
       "      <th>18379</th>\n",
       "      <td>194091.0</td>\n",
       "      <td>AA Batteries (4-pack)</td>\n",
       "      <td>1.0</td>\n",
       "      <td>3.84</td>\n",
       "      <td>04/15/19 16:02</td>\n",
       "      <td>311 Forest St, Austin, TX 73301</td>\n",
       "      <td>2019-04-15</td>\n",
       "    </tr>\n",
       "    <tr>\n",
       "      <th>18380</th>\n",
       "      <td>194092.0</td>\n",
       "      <td>AAA Batteries (4-pack)</td>\n",
       "      <td>2.0</td>\n",
       "      <td>2.99</td>\n",
       "      <td>04/28/19 14:36</td>\n",
       "      <td>347 Sunset St, San Francisco, CA 94016</td>\n",
       "      <td>2019-04-28</td>\n",
       "    </tr>\n",
       "    <tr>\n",
       "      <th>18381</th>\n",
       "      <td>194093.0</td>\n",
       "      <td>AA Batteries (4-pack)</td>\n",
       "      <td>1.0</td>\n",
       "      <td>3.84</td>\n",
       "      <td>04/14/19 15:09</td>\n",
       "      <td>835 Lake St, Portland, OR 97035</td>\n",
       "      <td>2019-04-14</td>\n",
       "    </tr>\n",
       "    <tr>\n",
       "      <th>18382</th>\n",
       "      <td>194094.0</td>\n",
       "      <td>Lightning Charging Cable</td>\n",
       "      <td>1.0</td>\n",
       "      <td>14.95</td>\n",
       "      <td>04/18/19 11:08</td>\n",
       "      <td>354 North St, Boston, MA 02215</td>\n",
       "      <td>2019-04-18</td>\n",
       "    </tr>\n",
       "  </tbody>\n",
       "</table>\n",
       "<p>18324 rows × 7 columns</p>\n",
       "</div>"
      ],
      "text/plain": [
       "       Order ID                     Product  Quantity Ordered  Price Each  \\\n",
       "0      176558.0        USB-C Charging Cable               2.0       11.95   \n",
       "2      176559.0  Bose SoundSport Headphones               1.0       99.99   \n",
       "3      176560.0                Google Phone               1.0      600.00   \n",
       "4      176560.0            Wired Headphones               1.0       11.99   \n",
       "5      176561.0            Wired Headphones               1.0       11.99   \n",
       "...         ...                         ...               ...         ...   \n",
       "18378  194090.0                Google Phone               1.0      600.00   \n",
       "18379  194091.0       AA Batteries (4-pack)               1.0        3.84   \n",
       "18380  194092.0      AAA Batteries (4-pack)               2.0        2.99   \n",
       "18381  194093.0       AA Batteries (4-pack)               1.0        3.84   \n",
       "18382  194094.0    Lightning Charging Cable               1.0       14.95   \n",
       "\n",
       "           Order Date                        Purchase Address       Date  \n",
       "0      04/19/19 08:46            917 1st St, Dallas, TX 75001 2019-04-19  \n",
       "2      04/07/19 22:30       682 Chestnut St, Boston, MA 02215 2019-04-07  \n",
       "3      04/12/19 14:38    669 Spruce St, Los Angeles, CA 90001 2019-04-12  \n",
       "4      04/12/19 14:38    669 Spruce St, Los Angeles, CA 90001 2019-04-12  \n",
       "5      04/30/19 09:27       333 8th St, Los Angeles, CA 90001 2019-04-30  \n",
       "...               ...                                     ...        ...  \n",
       "18378  04/08/19 17:11   177 Jackson St, Los Angeles, CA 90001 2019-04-08  \n",
       "18379  04/15/19 16:02         311 Forest St, Austin, TX 73301 2019-04-15  \n",
       "18380  04/28/19 14:36  347 Sunset St, San Francisco, CA 94016 2019-04-28  \n",
       "18381  04/14/19 15:09         835 Lake St, Portland, OR 97035 2019-04-14  \n",
       "18382  04/18/19 11:08          354 North St, Boston, MA 02215 2019-04-18  \n",
       "\n",
       "[18324 rows x 7 columns]"
      ]
     },
     "execution_count": 24,
     "metadata": {},
     "output_type": "execute_result"
    }
   ],
   "source": [
    "df"
   ]
  },
  {
   "cell_type": "code",
   "execution_count": 25,
   "id": "1fcc11d3",
   "metadata": {
    "scrolled": false
   },
   "outputs": [
    {
     "data": {
      "text/plain": [
       "Order ID            35\n",
       "Product              0\n",
       "Quantity Ordered    35\n",
       "Price Each          35\n",
       "Order Date           0\n",
       "Purchase Address     0\n",
       "Date                35\n",
       "dtype: int64"
      ]
     },
     "execution_count": 25,
     "metadata": {},
     "output_type": "execute_result"
    }
   ],
   "source": [
    "#after del null values\n",
    "df.isna().sum(axis=0)"
   ]
  },
  {
   "cell_type": "code",
   "execution_count": 26,
   "id": "0da83438",
   "metadata": {},
   "outputs": [
    {
     "data": {
      "text/html": [
       "<div>\n",
       "<style scoped>\n",
       "    .dataframe tbody tr th:only-of-type {\n",
       "        vertical-align: middle;\n",
       "    }\n",
       "\n",
       "    .dataframe tbody tr th {\n",
       "        vertical-align: top;\n",
       "    }\n",
       "\n",
       "    .dataframe thead th {\n",
       "        text-align: right;\n",
       "    }\n",
       "</style>\n",
       "<table border=\"1\" class=\"dataframe\">\n",
       "  <thead>\n",
       "    <tr style=\"text-align: right;\">\n",
       "      <th></th>\n",
       "      <th>Order ID</th>\n",
       "      <th>Product</th>\n",
       "      <th>Quantity Ordered</th>\n",
       "      <th>Price Each</th>\n",
       "      <th>Order Date</th>\n",
       "      <th>Purchase Address</th>\n",
       "      <th>Date</th>\n",
       "    </tr>\n",
       "  </thead>\n",
       "  <tbody>\n",
       "    <tr>\n",
       "      <th>31</th>\n",
       "      <td>176585.0</td>\n",
       "      <td>Bose SoundSport Headphones</td>\n",
       "      <td>1.0</td>\n",
       "      <td>99.99</td>\n",
       "      <td>04/07/19 11:31</td>\n",
       "      <td>823 Highland St, Boston, MA 02215</td>\n",
       "      <td>2019-04-07</td>\n",
       "    </tr>\n",
       "    <tr>\n",
       "      <th>1149</th>\n",
       "      <td>NaN</td>\n",
       "      <td>Product</td>\n",
       "      <td>NaN</td>\n",
       "      <td>NaN</td>\n",
       "      <td>Order Date</td>\n",
       "      <td>Purchase Address</td>\n",
       "      <td>NaT</td>\n",
       "    </tr>\n",
       "    <tr>\n",
       "      <th>1155</th>\n",
       "      <td>NaN</td>\n",
       "      <td>Product</td>\n",
       "      <td>NaN</td>\n",
       "      <td>NaN</td>\n",
       "      <td>Order Date</td>\n",
       "      <td>Purchase Address</td>\n",
       "      <td>NaT</td>\n",
       "    </tr>\n",
       "    <tr>\n",
       "      <th>1302</th>\n",
       "      <td>177795.0</td>\n",
       "      <td>Apple Airpods Headphones</td>\n",
       "      <td>1.0</td>\n",
       "      <td>150.00</td>\n",
       "      <td>04/27/19 19:45</td>\n",
       "      <td>740 14th St, Seattle, WA 98101</td>\n",
       "      <td>2019-04-27</td>\n",
       "    </tr>\n",
       "    <tr>\n",
       "      <th>1684</th>\n",
       "      <td>178158.0</td>\n",
       "      <td>USB-C Charging Cable</td>\n",
       "      <td>1.0</td>\n",
       "      <td>11.95</td>\n",
       "      <td>04/28/19 21:13</td>\n",
       "      <td>197 Center St, San Francisco, CA 94016</td>\n",
       "      <td>2019-04-28</td>\n",
       "    </tr>\n",
       "  </tbody>\n",
       "</table>\n",
       "</div>"
      ],
      "text/plain": [
       "      Order ID                     Product  Quantity Ordered  Price Each  \\\n",
       "31    176585.0  Bose SoundSport Headphones               1.0       99.99   \n",
       "1149       NaN                     Product               NaN         NaN   \n",
       "1155       NaN                     Product               NaN         NaN   \n",
       "1302  177795.0    Apple Airpods Headphones               1.0      150.00   \n",
       "1684  178158.0        USB-C Charging Cable               1.0       11.95   \n",
       "\n",
       "          Order Date                        Purchase Address       Date  \n",
       "31    04/07/19 11:31       823 Highland St, Boston, MA 02215 2019-04-07  \n",
       "1149      Order Date                        Purchase Address        NaT  \n",
       "1155      Order Date                        Purchase Address        NaT  \n",
       "1302  04/27/19 19:45          740 14th St, Seattle, WA 98101 2019-04-27  \n",
       "1684  04/28/19 21:13  197 Center St, San Francisco, CA 94016 2019-04-28  "
      ]
     },
     "execution_count": 26,
     "metadata": {},
     "output_type": "execute_result"
    }
   ],
   "source": [
    "df.loc[df.duplicated(), :].head(5)"
   ]
  },
  {
   "cell_type": "code",
   "execution_count": 27,
   "id": "d1def7c0",
   "metadata": {},
   "outputs": [],
   "source": [
    "#to del raw based on spesific val\n",
    "drop_row = df[df['Product'] == 'Product'].index\n",
    " \n",
    "# Delete these row indexes from dataFrame\n",
    "df.drop(drop_row , inplace=True)"
   ]
  },
  {
   "cell_type": "code",
   "execution_count": 28,
   "id": "3d63f8dd",
   "metadata": {
    "scrolled": true
   },
   "outputs": [
    {
     "data": {
      "text/plain": [
       "Lightning Charging Cable      2201\n",
       "USB-C Charging Cable          2079\n",
       "AA Batteries (4-pack)         2063\n",
       "AAA Batteries (4-pack)        1989\n",
       "Wired Headphones              1890\n",
       "Apple Airpods Headphones      1515\n",
       "Bose SoundSport Headphones    1280\n",
       "27in FHD Monitor               734\n",
       "iPhone                         693\n",
       "34in Ultrawide Monitor         650\n",
       "Google Phone                   581\n",
       "27in 4K Gaming Monitor         563\n",
       "Flatscreen TV                  458\n",
       "Macbook Pro Laptop             453\n",
       "ThinkPad Laptop                392\n",
       "20in Monitor                   390\n",
       "Vareebadd Phone                220\n",
       "LG Dryer                        77\n",
       "LG Washing Machine              61\n",
       "Name: Product, dtype: int64"
      ]
     },
     "execution_count": 28,
     "metadata": {},
     "output_type": "execute_result"
    }
   ],
   "source": [
    "df['Product'].value_counts()"
   ]
  },
  {
   "cell_type": "code",
   "execution_count": 29,
   "id": "c3f00b7b",
   "metadata": {},
   "outputs": [
    {
     "data": {
      "text/plain": [
       "22"
      ]
     },
     "execution_count": 29,
     "metadata": {},
     "output_type": "execute_result"
    }
   ],
   "source": [
    "sum(df.duplicated())"
   ]
  },
  {
   "cell_type": "code",
   "execution_count": 30,
   "id": "df82d13e",
   "metadata": {},
   "outputs": [
    {
     "data": {
      "text/html": [
       "<div>\n",
       "<style scoped>\n",
       "    .dataframe tbody tr th:only-of-type {\n",
       "        vertical-align: middle;\n",
       "    }\n",
       "\n",
       "    .dataframe tbody tr th {\n",
       "        vertical-align: top;\n",
       "    }\n",
       "\n",
       "    .dataframe thead th {\n",
       "        text-align: right;\n",
       "    }\n",
       "</style>\n",
       "<table border=\"1\" class=\"dataframe\">\n",
       "  <thead>\n",
       "    <tr style=\"text-align: right;\">\n",
       "      <th></th>\n",
       "      <th>Order ID</th>\n",
       "      <th>Product</th>\n",
       "      <th>Quantity Ordered</th>\n",
       "      <th>Price Each</th>\n",
       "      <th>Order Date</th>\n",
       "      <th>Purchase Address</th>\n",
       "      <th>Date</th>\n",
       "    </tr>\n",
       "  </thead>\n",
       "  <tbody>\n",
       "    <tr>\n",
       "      <th>0</th>\n",
       "      <td>176558.0</td>\n",
       "      <td>USB-C Charging Cable</td>\n",
       "      <td>2.0</td>\n",
       "      <td>11.95</td>\n",
       "      <td>04/19/19 08:46</td>\n",
       "      <td>917 1st St, Dallas, TX 75001</td>\n",
       "      <td>2019-04-19</td>\n",
       "    </tr>\n",
       "    <tr>\n",
       "      <th>2</th>\n",
       "      <td>176559.0</td>\n",
       "      <td>Bose SoundSport Headphones</td>\n",
       "      <td>1.0</td>\n",
       "      <td>99.99</td>\n",
       "      <td>04/07/19 22:30</td>\n",
       "      <td>682 Chestnut St, Boston, MA 02215</td>\n",
       "      <td>2019-04-07</td>\n",
       "    </tr>\n",
       "    <tr>\n",
       "      <th>3</th>\n",
       "      <td>176560.0</td>\n",
       "      <td>Google Phone</td>\n",
       "      <td>1.0</td>\n",
       "      <td>600.00</td>\n",
       "      <td>04/12/19 14:38</td>\n",
       "      <td>669 Spruce St, Los Angeles, CA 90001</td>\n",
       "      <td>2019-04-12</td>\n",
       "    </tr>\n",
       "    <tr>\n",
       "      <th>5</th>\n",
       "      <td>176561.0</td>\n",
       "      <td>Wired Headphones</td>\n",
       "      <td>1.0</td>\n",
       "      <td>11.99</td>\n",
       "      <td>04/30/19 09:27</td>\n",
       "      <td>333 8th St, Los Angeles, CA 90001</td>\n",
       "      <td>2019-04-30</td>\n",
       "    </tr>\n",
       "    <tr>\n",
       "      <th>6</th>\n",
       "      <td>176562.0</td>\n",
       "      <td>USB-C Charging Cable</td>\n",
       "      <td>1.0</td>\n",
       "      <td>11.95</td>\n",
       "      <td>04/29/19 13:03</td>\n",
       "      <td>381 Wilson St, San Francisco, CA 94016</td>\n",
       "      <td>2019-04-29</td>\n",
       "    </tr>\n",
       "    <tr>\n",
       "      <th>...</th>\n",
       "      <td>...</td>\n",
       "      <td>...</td>\n",
       "      <td>...</td>\n",
       "      <td>...</td>\n",
       "      <td>...</td>\n",
       "      <td>...</td>\n",
       "      <td>...</td>\n",
       "    </tr>\n",
       "    <tr>\n",
       "      <th>18378</th>\n",
       "      <td>194090.0</td>\n",
       "      <td>Google Phone</td>\n",
       "      <td>1.0</td>\n",
       "      <td>600.00</td>\n",
       "      <td>04/08/19 17:11</td>\n",
       "      <td>177 Jackson St, Los Angeles, CA 90001</td>\n",
       "      <td>2019-04-08</td>\n",
       "    </tr>\n",
       "    <tr>\n",
       "      <th>18379</th>\n",
       "      <td>194091.0</td>\n",
       "      <td>AA Batteries (4-pack)</td>\n",
       "      <td>1.0</td>\n",
       "      <td>3.84</td>\n",
       "      <td>04/15/19 16:02</td>\n",
       "      <td>311 Forest St, Austin, TX 73301</td>\n",
       "      <td>2019-04-15</td>\n",
       "    </tr>\n",
       "    <tr>\n",
       "      <th>18380</th>\n",
       "      <td>194092.0</td>\n",
       "      <td>AAA Batteries (4-pack)</td>\n",
       "      <td>2.0</td>\n",
       "      <td>2.99</td>\n",
       "      <td>04/28/19 14:36</td>\n",
       "      <td>347 Sunset St, San Francisco, CA 94016</td>\n",
       "      <td>2019-04-28</td>\n",
       "    </tr>\n",
       "    <tr>\n",
       "      <th>18381</th>\n",
       "      <td>194093.0</td>\n",
       "      <td>AA Batteries (4-pack)</td>\n",
       "      <td>1.0</td>\n",
       "      <td>3.84</td>\n",
       "      <td>04/14/19 15:09</td>\n",
       "      <td>835 Lake St, Portland, OR 97035</td>\n",
       "      <td>2019-04-14</td>\n",
       "    </tr>\n",
       "    <tr>\n",
       "      <th>18382</th>\n",
       "      <td>194094.0</td>\n",
       "      <td>Lightning Charging Cable</td>\n",
       "      <td>1.0</td>\n",
       "      <td>14.95</td>\n",
       "      <td>04/18/19 11:08</td>\n",
       "      <td>354 North St, Boston, MA 02215</td>\n",
       "      <td>2019-04-18</td>\n",
       "    </tr>\n",
       "  </tbody>\n",
       "</table>\n",
       "<p>17537 rows × 7 columns</p>\n",
       "</div>"
      ],
      "text/plain": [
       "       Order ID                     Product  Quantity Ordered  Price Each  \\\n",
       "0      176558.0        USB-C Charging Cable               2.0       11.95   \n",
       "2      176559.0  Bose SoundSport Headphones               1.0       99.99   \n",
       "3      176560.0                Google Phone               1.0      600.00   \n",
       "5      176561.0            Wired Headphones               1.0       11.99   \n",
       "6      176562.0        USB-C Charging Cable               1.0       11.95   \n",
       "...         ...                         ...               ...         ...   \n",
       "18378  194090.0                Google Phone               1.0      600.00   \n",
       "18379  194091.0       AA Batteries (4-pack)               1.0        3.84   \n",
       "18380  194092.0      AAA Batteries (4-pack)               2.0        2.99   \n",
       "18381  194093.0       AA Batteries (4-pack)               1.0        3.84   \n",
       "18382  194094.0    Lightning Charging Cable               1.0       14.95   \n",
       "\n",
       "           Order Date                        Purchase Address       Date  \n",
       "0      04/19/19 08:46            917 1st St, Dallas, TX 75001 2019-04-19  \n",
       "2      04/07/19 22:30       682 Chestnut St, Boston, MA 02215 2019-04-07  \n",
       "3      04/12/19 14:38    669 Spruce St, Los Angeles, CA 90001 2019-04-12  \n",
       "5      04/30/19 09:27       333 8th St, Los Angeles, CA 90001 2019-04-30  \n",
       "6      04/29/19 13:03  381 Wilson St, San Francisco, CA 94016 2019-04-29  \n",
       "...               ...                                     ...        ...  \n",
       "18378  04/08/19 17:11   177 Jackson St, Los Angeles, CA 90001 2019-04-08  \n",
       "18379  04/15/19 16:02         311 Forest St, Austin, TX 73301 2019-04-15  \n",
       "18380  04/28/19 14:36  347 Sunset St, San Francisco, CA 94016 2019-04-28  \n",
       "18381  04/14/19 15:09         835 Lake St, Portland, OR 97035 2019-04-14  \n",
       "18382  04/18/19 11:08          354 North St, Boston, MA 02215 2019-04-18  \n",
       "\n",
       "[17537 rows x 7 columns]"
      ]
     },
     "execution_count": 30,
     "metadata": {},
     "output_type": "execute_result"
    }
   ],
   "source": [
    "df.drop_duplicates(subset=['Order ID'], keep='first', inplace=True)\n",
    "df"
   ]
  },
  {
   "cell_type": "code",
   "execution_count": 31,
   "id": "5f54eed3",
   "metadata": {},
   "outputs": [
    {
     "data": {
      "text/plain": [
       "0"
      ]
     },
     "execution_count": 31,
     "metadata": {},
     "output_type": "execute_result"
    }
   ],
   "source": [
    "sum(df.duplicated())"
   ]
  },
  {
   "cell_type": "code",
   "execution_count": 33,
   "id": "392072b8",
   "metadata": {},
   "outputs": [
    {
     "data": {
      "text/html": [
       "<div>\n",
       "<style scoped>\n",
       "    .dataframe tbody tr th:only-of-type {\n",
       "        vertical-align: middle;\n",
       "    }\n",
       "\n",
       "    .dataframe tbody tr th {\n",
       "        vertical-align: top;\n",
       "    }\n",
       "\n",
       "    .dataframe thead th {\n",
       "        text-align: right;\n",
       "    }\n",
       "</style>\n",
       "<table border=\"1\" class=\"dataframe\">\n",
       "  <thead>\n",
       "    <tr style=\"text-align: right;\">\n",
       "      <th></th>\n",
       "      <th>Order ID</th>\n",
       "      <th>Quantity Ordered</th>\n",
       "      <th>Price Each</th>\n",
       "    </tr>\n",
       "  </thead>\n",
       "  <tbody>\n",
       "    <tr>\n",
       "      <th>Order ID</th>\n",
       "      <td>1.000000</td>\n",
       "      <td>-0.006091</td>\n",
       "      <td>0.004183</td>\n",
       "    </tr>\n",
       "    <tr>\n",
       "      <th>Quantity Ordered</th>\n",
       "      <td>-0.006091</td>\n",
       "      <td>1.000000</td>\n",
       "      <td>-0.152906</td>\n",
       "    </tr>\n",
       "    <tr>\n",
       "      <th>Price Each</th>\n",
       "      <td>0.004183</td>\n",
       "      <td>-0.152906</td>\n",
       "      <td>1.000000</td>\n",
       "    </tr>\n",
       "  </tbody>\n",
       "</table>\n",
       "</div>"
      ],
      "text/plain": [
       "                  Order ID  Quantity Ordered  Price Each\n",
       "Order ID          1.000000         -0.006091    0.004183\n",
       "Quantity Ordered -0.006091          1.000000   -0.152906\n",
       "Price Each        0.004183         -0.152906    1.000000"
      ]
     },
     "execution_count": 33,
     "metadata": {},
     "output_type": "execute_result"
    }
   ],
   "source": [
    "df.corr()"
   ]
  },
  {
   "cell_type": "code",
   "execution_count": 34,
   "id": "9b2022cc",
   "metadata": {},
   "outputs": [
    {
     "data": {
      "text/plain": [
       "<AxesSubplot:>"
      ]
     },
     "execution_count": 34,
     "metadata": {},
     "output_type": "execute_result"
    },
    {
     "data": {
      "image/png": "[encoded data removed]",
      "text/plain": [
       "<Figure size 432x288 with 2 Axes>"
      ]
     },
     "metadata": {
      "needs_background": "light"
     },
     "output_type": "display_data"
    }
   ],
   "source": [
    "sns.heatmap(df.corr(), annot=True, cmap='Blues')"
   ]
  },
  {
   "cell_type": "markdown",
   "id": "ea6a0126",
   "metadata": {},
   "source": [
    "# <a name=Questions>Questions</a>"
   ]
  },
  {
   "cell_type": "markdown",
   "id": "c8e2ddac",
   "metadata": {},
   "source": [
    "what is the most Product sale?"
   ]
  },
  {
   "cell_type": "code",
   "execution_count": 35,
   "id": "20dbff73",
   "metadata": {
    "scrolled": true
   },
   "outputs": [
    {
     "data": {
      "text/plain": [
       "<AxesSubplot:>"
      ]
     },
     "execution_count": 35,
     "metadata": {},
     "output_type": "execute_result"
    },
    {
     "data": {
      "image/png": "[encoded data removed]",
      "text/plain": [
       "<Figure size 432x288 with 1 Axes>"
      ]
     },
     "metadata": {
      "needs_background": "light"
     },
     "output_type": "display_data"
    }
   ],
   "source": [
    "df['Product'].value_counts().plot(kind='bar')"
   ]
  },
  {
   "cell_type": "markdown",
   "id": "779feb93",
   "metadata": {},
   "source": [
    "what is the highest day has most orders?"
   ]
  },
  {
   "cell_type": "code",
   "execution_count": 36,
   "id": "5ac6d896",
   "metadata": {
    "scrolled": true
   },
   "outputs": [
    {
     "data": {
      "text/plain": [
       "<AxesSubplot:>"
      ]
     },
     "execution_count": 36,
     "metadata": {},
     "output_type": "execute_result"
    },
    {
     "data": {
      "image/png": "[encoded data removed]",
      "text/plain": [
       "<Figure size 432x288 with 1 Axes>"
      ]
     },
     "metadata": {
      "needs_background": "light"
     },
     "output_type": "display_data"
    }
   ],
   "source": [
    "df['Date'].value_counts().plot(kind='bar')"
   ]
  },
  {
   "cell_type": "code",
   "execution_count": null,
   "id": "6aa6aa50",
   "metadata": {},
   "outputs": [],
   "source": [
    "#df['Purchase Address'].value_counts().plot(kind='bar')"
   ]
  },
  {
   "cell_type": "markdown",
   "id": "d7e9efea",
   "metadata": {},
   "source": [
    "# <a name=Qun>Qunclosion</a>"
   ]
  }
 ],
 "metadata": {
  "kernelspec": {
   "display_name": "Python 3",
   "language": "python",
   "name": "python3"
  },
  "language_info": {
   "codemirror_mode": {
    "name": "ipython",
    "version": 3
   },
   "file_extension": ".py",
   "mimetype": "text/x-python",
   "name": "python",
   "nbconvert_exporter": "python",
   "pygments_lexer": "ipython3",
   "version": "3.8.8"
  }
 },
 "nbformat": 4,
 "nbformat_minor": 5
}
