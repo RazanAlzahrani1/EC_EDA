{
 "cells": [
  {
   "cell_type": "markdown",
   "id": "a6aa49ae",
   "metadata": {},
   "source": [
    "## PRODUCT SALES FOR E COMPANY\n",
    "\n",
    "### appendix \n",
    "-click on links: \n",
    "\n",
    "> <a href=#imports>Import libraries</a>\n",
    "\n",
    "> <a href=#load>Load data</a>\n",
    "\n",
    "> <a href=#formating>Data formating</a>\n",
    "\n",
    "> <a href=#valid>validate assumption</a>\n",
    "\n",
    "> <a href=#EDA>Explratory data analysis</a>\n",
    "\n",
    "> <a href=#Questions>Questions</a>\n",
    "\n",
    "> <a href=#Qun>Qunclosion</a>"
   ]
  },
  {
   "cell_type": "markdown",
   "id": "463b1c22",
   "metadata": {},
   "source": [
    "# <a name=imports> Import libraries</a>"
   ]
  },
  {
   "cell_type": "code",
   "execution_count": 1,
   "id": "ef8bdd1f",
   "metadata": {},
   "outputs": [],
   "source": [
    "import pandas as pd \n",
    "import numpy as np\n",
    "import matplotlib.pyplot as plt\n",
    "import seaborn as sns\n",
    "from datetime import datetime\n",
    "%matplotlib inline "
   ]
  },
  {
   "cell_type": "markdown",
   "id": "ded032ba",
   "metadata": {},
   "source": [
    "# <a name=load>Load data</a>"
   ]
  },
  {
   "cell_type": "code",
   "execution_count": 2,
   "id": "1ee7d5a5",
   "metadata": {},
   "outputs": [],
   "source": [
    "df = pd.read_csv('Sales_April_2019.csv',\n",
    "                 na_values =' ' ,\n",
    "                 delimiter=';' # to show data without (;)\n",
    "                 )"
   ]
  },
  {
   "cell_type": "code",
   "execution_count": 3,
   "id": "d09c456b",
   "metadata": {},
   "outputs": [
    {
     "data": {
      "text/html": [
       "<div>\n",
       "<style scoped>\n",
       "    .dataframe tbody tr th:only-of-type {\n",
       "        vertical-align: middle;\n",
       "    }\n",
       "\n",
       "    .dataframe tbody tr th {\n",
       "        vertical-align: top;\n",
       "    }\n",
       "\n",
       "    .dataframe thead th {\n",
       "        text-align: right;\n",
       "    }\n",
       "</style>\n",
       "<table border=\"1\" class=\"dataframe\">\n",
       "  <thead>\n",
       "    <tr style=\"text-align: right;\">\n",
       "      <th></th>\n",
       "      <th>Order ID</th>\n",
       "      <th>Product</th>\n",
       "      <th>Quantity Ordered</th>\n",
       "      <th>Price Each</th>\n",
       "      <th>Order Date</th>\n",
       "      <th>Purchase Address</th>\n",
       "    </tr>\n",
       "  </thead>\n",
       "  <tbody>\n",
       "    <tr>\n",
       "      <th>0</th>\n",
       "      <td>176558</td>\n",
       "      <td>USB-C Charging Cable</td>\n",
       "      <td>2</td>\n",
       "      <td>11.95</td>\n",
       "      <td>04/19/19 08:46</td>\n",
       "      <td>917 1st St, Dallas, TX 75001</td>\n",
       "    </tr>\n",
       "    <tr>\n",
       "      <th>1</th>\n",
       "      <td>NaN</td>\n",
       "      <td>NaN</td>\n",
       "      <td>NaN</td>\n",
       "      <td>NaN</td>\n",
       "      <td>NaN</td>\n",
       "      <td>NaN</td>\n",
       "    </tr>\n",
       "    <tr>\n",
       "      <th>2</th>\n",
       "      <td>176559</td>\n",
       "      <td>Bose SoundSport Headphones</td>\n",
       "      <td>1</td>\n",
       "      <td>99.99</td>\n",
       "      <td>04/07/19 22:30</td>\n",
       "      <td>682 Chestnut St, Boston, MA 02215</td>\n",
       "    </tr>\n",
       "    <tr>\n",
       "      <th>3</th>\n",
       "      <td>176560</td>\n",
       "      <td>Google Phone</td>\n",
       "      <td>1</td>\n",
       "      <td>600</td>\n",
       "      <td>04/12/19 14:38</td>\n",
       "      <td>669 Spruce St, Los Angeles, CA 90001</td>\n",
       "    </tr>\n",
       "    <tr>\n",
       "      <th>4</th>\n",
       "      <td>176560</td>\n",
       "      <td>Wired Headphones</td>\n",
       "      <td>1</td>\n",
       "      <td>11.99</td>\n",
       "      <td>04/12/19 14:38</td>\n",
       "      <td>669 Spruce St, Los Angeles, CA 90001</td>\n",
       "    </tr>\n",
       "  </tbody>\n",
       "</table>\n",
       "</div>"
      ],
      "text/plain": [
       "  Order ID                     Product Quantity Ordered Price Each  \\\n",
       "0   176558        USB-C Charging Cable                2      11.95   \n",
       "1      NaN                         NaN              NaN        NaN   \n",
       "2   176559  Bose SoundSport Headphones                1      99.99   \n",
       "3   176560                Google Phone                1        600   \n",
       "4   176560            Wired Headphones                1      11.99   \n",
       "\n",
       "       Order Date                      Purchase Address  \n",
       "0  04/19/19 08:46          917 1st St, Dallas, TX 75001  \n",
       "1             NaN                                   NaN  \n",
       "2  04/07/19 22:30     682 Chestnut St, Boston, MA 02215  \n",
       "3  04/12/19 14:38  669 Spruce St, Los Angeles, CA 90001  \n",
       "4  04/12/19 14:38  669 Spruce St, Los Angeles, CA 90001  "
      ]
     },
     "execution_count": 3,
     "metadata": {},
     "output_type": "execute_result"
    }
   ],
   "source": [
    "df.head()"
   ]
  },
  {
   "cell_type": "code",
   "execution_count": 4,
   "id": "3e1efa94",
   "metadata": {
    "scrolled": true
   },
   "outputs": [
    {
     "name": "stdout",
     "output_type": "stream",
     "text": [
      "<class 'pandas.core.frame.DataFrame'>\n",
      "RangeIndex: 18383 entries, 0 to 18382\n",
      "Data columns (total 6 columns):\n",
      " #   Column            Non-Null Count  Dtype \n",
      "---  ------            --------------  ----- \n",
      " 0   Order ID          18324 non-null  object\n",
      " 1   Product           18324 non-null  object\n",
      " 2   Quantity Ordered  18324 non-null  object\n",
      " 3   Price Each        18324 non-null  object\n",
      " 4   Order Date        18324 non-null  object\n",
      " 5   Purchase Address  18324 non-null  object\n",
      "dtypes: object(6)\n",
      "memory usage: 861.8+ KB\n"
     ]
    }
   ],
   "source": [
    "df.info()"
   ]
  },
  {
   "cell_type": "markdown",
   "id": "96455fcf",
   "metadata": {},
   "source": [
    "# <a name=formating>Data formating</a>"
   ]
  },
  {
   "cell_type": "code",
   "execution_count": 5,
   "id": "a5951072",
   "metadata": {},
   "outputs": [],
   "source": [
    "# i need to change data format of four colums :order id ,Order Date, Quantity Ordered,Price Each \n",
    "df['Order ID'] = pd.to_numeric(df['Order ID'], errors ='coerce')\n"
   ]
  },
  {
   "cell_type": "code",
   "execution_count": 6,
   "id": "14d2f729",
   "metadata": {},
   "outputs": [
    {
     "data": {
      "text/html": [
       "<div>\n",
       "<style scoped>\n",
       "    .dataframe tbody tr th:only-of-type {\n",
       "        vertical-align: middle;\n",
       "    }\n",
       "\n",
       "    .dataframe tbody tr th {\n",
       "        vertical-align: top;\n",
       "    }\n",
       "\n",
       "    .dataframe thead th {\n",
       "        text-align: right;\n",
       "    }\n",
       "</style>\n",
       "<table border=\"1\" class=\"dataframe\">\n",
       "  <thead>\n",
       "    <tr style=\"text-align: right;\">\n",
       "      <th></th>\n",
       "      <th>Order ID</th>\n",
       "      <th>Product</th>\n",
       "      <th>Quantity Ordered</th>\n",
       "      <th>Price Each</th>\n",
       "      <th>Order Date</th>\n",
       "      <th>Purchase Address</th>\n",
       "      <th>Date</th>\n",
       "    </tr>\n",
       "  </thead>\n",
       "  <tbody>\n",
       "    <tr>\n",
       "      <th>0</th>\n",
       "      <td>176558.0</td>\n",
       "      <td>USB-C Charging Cable</td>\n",
       "      <td>2</td>\n",
       "      <td>11.95</td>\n",
       "      <td>04/19/19 08:46</td>\n",
       "      <td>917 1st St, Dallas, TX 75001</td>\n",
       "      <td>04/19/19</td>\n",
       "    </tr>\n",
       "    <tr>\n",
       "      <th>1</th>\n",
       "      <td>NaN</td>\n",
       "      <td>NaN</td>\n",
       "      <td>NaN</td>\n",
       "      <td>NaN</td>\n",
       "      <td>NaN</td>\n",
       "      <td>NaN</td>\n",
       "      <td>NaN</td>\n",
       "    </tr>\n",
       "    <tr>\n",
       "      <th>2</th>\n",
       "      <td>176559.0</td>\n",
       "      <td>Bose SoundSport Headphones</td>\n",
       "      <td>1</td>\n",
       "      <td>99.99</td>\n",
       "      <td>04/07/19 22:30</td>\n",
       "      <td>682 Chestnut St, Boston, MA 02215</td>\n",
       "      <td>04/07/19</td>\n",
       "    </tr>\n",
       "    <tr>\n",
       "      <th>3</th>\n",
       "      <td>176560.0</td>\n",
       "      <td>Google Phone</td>\n",
       "      <td>1</td>\n",
       "      <td>600</td>\n",
       "      <td>04/12/19 14:38</td>\n",
       "      <td>669 Spruce St, Los Angeles, CA 90001</td>\n",
       "      <td>04/12/19</td>\n",
       "    </tr>\n",
       "    <tr>\n",
       "      <th>4</th>\n",
       "      <td>176560.0</td>\n",
       "      <td>Wired Headphones</td>\n",
       "      <td>1</td>\n",
       "      <td>11.99</td>\n",
       "      <td>04/12/19 14:38</td>\n",
       "      <td>669 Spruce St, Los Angeles, CA 90001</td>\n",
       "      <td>04/12/19</td>\n",
       "    </tr>\n",
       "  </tbody>\n",
       "</table>\n",
       "</div>"
      ],
      "text/plain": [
       "   Order ID                     Product Quantity Ordered Price Each  \\\n",
       "0  176558.0        USB-C Charging Cable                2      11.95   \n",
       "1       NaN                         NaN              NaN        NaN   \n",
       "2  176559.0  Bose SoundSport Headphones                1      99.99   \n",
       "3  176560.0                Google Phone                1        600   \n",
       "4  176560.0            Wired Headphones                1      11.99   \n",
       "\n",
       "       Order Date                      Purchase Address      Date  \n",
       "0  04/19/19 08:46          917 1st St, Dallas, TX 75001  04/19/19  \n",
       "1             NaN                                   NaN       NaN  \n",
       "2  04/07/19 22:30     682 Chestnut St, Boston, MA 02215  04/07/19  \n",
       "3  04/12/19 14:38  669 Spruce St, Los Angeles, CA 90001  04/12/19  \n",
       "4  04/12/19 14:38  669 Spruce St, Los Angeles, CA 90001  04/12/19  "
      ]
     },
     "execution_count": 6,
     "metadata": {},
     "output_type": "execute_result"
    }
   ],
   "source": [
    "#شلت التاريخ لحاله في كولم جديد \n",
    "df['Date'] = df['Order Date'].str.split(' ').str[0]\n",
    "df.head()"
   ]
  },
  {
   "cell_type": "code",
   "execution_count": 7,
   "id": "91ef9cf3",
   "metadata": {
    "scrolled": false
   },
   "outputs": [],
   "source": [
    "df['Date'] = pd.to_datetime(df['Date'],format='%m/%d/%y', errors='coerce')"
   ]
  },
  {
   "cell_type": "code",
   "execution_count": 8,
   "id": "7d4c26f9",
   "metadata": {},
   "outputs": [],
   "source": [
    "df['Quantity Ordered'] = pd.to_numeric(df['Quantity Ordered'], errors ='coerce')"
   ]
  },
  {
   "cell_type": "code",
   "execution_count": 9,
   "id": "4998122e",
   "metadata": {},
   "outputs": [],
   "source": [
    "df['Price Each'] = pd.to_numeric(df['Price Each'], errors ='coerce')"
   ]
  },
  {
   "cell_type": "code",
   "execution_count": 10,
   "id": "15f91ae7",
   "metadata": {},
   "outputs": [
    {
     "name": "stdout",
     "output_type": "stream",
     "text": [
      "<class 'pandas.core.frame.DataFrame'>\n",
      "RangeIndex: 18383 entries, 0 to 18382\n",
      "Data columns (total 7 columns):\n",
      " #   Column            Non-Null Count  Dtype         \n",
      "---  ------            --------------  -----         \n",
      " 0   Order ID          18289 non-null  float64       \n",
      " 1   Product           18324 non-null  object        \n",
      " 2   Quantity Ordered  18289 non-null  float64       \n",
      " 3   Price Each        18289 non-null  float64       \n",
      " 4   Order Date        18324 non-null  object        \n",
      " 5   Purchase Address  18324 non-null  object        \n",
      " 6   Date              18289 non-null  datetime64[ns]\n",
      "dtypes: datetime64[ns](1), float64(3), object(3)\n",
      "memory usage: 1005.4+ KB\n"
     ]
    }
   ],
   "source": [
    "df.info()"
   ]
  },
  {
   "cell_type": "markdown",
   "id": "b7aff25c",
   "metadata": {},
   "source": [
    "# <a name=valid>validate assumption</a>"
   ]
  },
  {
   "cell_type": "code",
   "execution_count": 11,
   "id": "097bf53b",
   "metadata": {
    "scrolled": true
   },
   "outputs": [
    {
     "name": "stdout",
     "output_type": "stream",
     "text": [
      "Order ID  :  [176558.     nan 176559. ... 194092. 194093. 194094.]\n",
      " \n",
      "Product  :  ['USB-C Charging Cable' nan 'Bose SoundSport Headphones' 'Google Phone'\n",
      " 'Wired Headphones' 'Macbook Pro Laptop' 'Lightning Charging Cable'\n",
      " '27in 4K Gaming Monitor' 'AA Batteries (4-pack)'\n",
      " 'Apple Airpods Headphones' 'AAA Batteries (4-pack)' 'iPhone'\n",
      " 'Flatscreen TV' '27in FHD Monitor' '20in Monitor' 'LG Dryer'\n",
      " 'ThinkPad Laptop' 'Vareebadd Phone' 'LG Washing Machine'\n",
      " '34in Ultrawide Monitor' 'Product']\n",
      " \n",
      "Quantity Ordered  :  [ 2. nan  1.  3.  5.  4.  7.  6.]\n",
      " \n",
      "Price Each  :  [  11.95     nan   99.99  600.     11.99 1700.     14.95  389.99    3.84\n",
      "  150.      2.99  700.    300.    149.99  109.99  999.99  400.    379.99]\n",
      " \n",
      "Order Date  :  ['04/19/19 08:46' nan '04/07/19 22:30' ... '04/15/19 16:02'\n",
      " '04/14/19 15:09' '04/18/19 11:08']\n",
      " \n",
      "Purchase Address  :  ['917 1st St, Dallas, TX 75001' nan '682 Chestnut St, Boston, MA 02215'\n",
      " ... '347 Sunset St, San Francisco, CA 94016'\n",
      " '835 Lake St, Portland, OR 97035' '354 North St, Boston, MA 02215']\n",
      " \n",
      "Date  :  ['2019-04-19T00:00:00.000000000'                           'NaT'\n",
      " '2019-04-07T00:00:00.000000000' '2019-04-12T00:00:00.000000000'\n",
      " '2019-04-30T00:00:00.000000000' '2019-04-29T00:00:00.000000000'\n",
      " '2019-04-02T00:00:00.000000000' '2019-04-24T00:00:00.000000000'\n",
      " '2019-04-08T00:00:00.000000000' '2019-04-18T00:00:00.000000000'\n",
      " '2019-04-15T00:00:00.000000000' '2019-04-16T00:00:00.000000000'\n",
      " '2019-04-22T00:00:00.000000000' '2019-04-04T00:00:00.000000000'\n",
      " '2019-04-27T00:00:00.000000000' '2019-04-03T00:00:00.000000000'\n",
      " '2019-04-28T00:00:00.000000000' '2019-04-09T00:00:00.000000000'\n",
      " '2019-04-11T00:00:00.000000000' '2019-04-05T00:00:00.000000000'\n",
      " '2019-04-20T00:00:00.000000000' '2019-04-10T00:00:00.000000000'\n",
      " '2019-04-21T00:00:00.000000000' '2019-04-17T00:00:00.000000000'\n",
      " '2019-04-01T00:00:00.000000000' '2019-04-26T00:00:00.000000000'\n",
      " '2019-04-25T00:00:00.000000000' '2019-04-13T00:00:00.000000000'\n",
      " '2019-04-14T00:00:00.000000000' '2019-04-23T00:00:00.000000000'\n",
      " '2019-04-06T00:00:00.000000000' '2019-05-01T00:00:00.000000000']\n",
      " \n"
     ]
    }
   ],
   "source": [
    "for col in df.columns:\n",
    "    uniq_val = df[col].unique()\n",
    "    print(col,' : ',uniq_val)\n",
    "    print(' ')"
   ]
  },
  {
   "cell_type": "code",
   "execution_count": 12,
   "id": "93eff986",
   "metadata": {},
   "outputs": [
    {
     "name": "stderr",
     "output_type": "stream",
     "text": [
      "<ipython-input-12-174ba9bf1a5c>:1: FutureWarning: Treating datetime data as categorical rather than numeric in `.describe` is deprecated and will be removed in a future version of pandas. Specify `datetime_is_numeric=True` to silence this warning and adopt the future behavior now.\n",
      "  df.describe(include='all')\n"
     ]
    },
    {
     "data": {
      "text/html": [
       "<div>\n",
       "<style scoped>\n",
       "    .dataframe tbody tr th:only-of-type {\n",
       "        vertical-align: middle;\n",
       "    }\n",
       "\n",
       "    .dataframe tbody tr th {\n",
       "        vertical-align: top;\n",
       "    }\n",
       "\n",
       "    .dataframe thead th {\n",
       "        text-align: right;\n",
       "    }\n",
       "</style>\n",
       "<table border=\"1\" class=\"dataframe\">\n",
       "  <thead>\n",
       "    <tr style=\"text-align: right;\">\n",
       "      <th></th>\n",
       "      <th>Order ID</th>\n",
       "      <th>Product</th>\n",
       "      <th>Quantity Ordered</th>\n",
       "      <th>Price Each</th>\n",
       "      <th>Order Date</th>\n",
       "      <th>Purchase Address</th>\n",
       "      <th>Date</th>\n",
       "    </tr>\n",
       "  </thead>\n",
       "  <tbody>\n",
       "    <tr>\n",
       "      <th>count</th>\n",
       "      <td>18289.000000</td>\n",
       "      <td>18324</td>\n",
       "      <td>18289.00000</td>\n",
       "      <td>18289.000000</td>\n",
       "      <td>18324</td>\n",
       "      <td>18324</td>\n",
       "      <td>18289</td>\n",
       "    </tr>\n",
       "    <tr>\n",
       "      <th>unique</th>\n",
       "      <td>NaN</td>\n",
       "      <td>20</td>\n",
       "      <td>NaN</td>\n",
       "      <td>NaN</td>\n",
       "      <td>13584</td>\n",
       "      <td>17120</td>\n",
       "      <td>31</td>\n",
       "    </tr>\n",
       "    <tr>\n",
       "      <th>top</th>\n",
       "      <td>NaN</td>\n",
       "      <td>Lightning Charging Cable</td>\n",
       "      <td>NaN</td>\n",
       "      <td>NaN</td>\n",
       "      <td>Order Date</td>\n",
       "      <td>Purchase Address</td>\n",
       "      <td>2019-04-21 00:00:00</td>\n",
       "    </tr>\n",
       "    <tr>\n",
       "      <th>freq</th>\n",
       "      <td>NaN</td>\n",
       "      <td>2201</td>\n",
       "      <td>NaN</td>\n",
       "      <td>NaN</td>\n",
       "      <td>35</td>\n",
       "      <td>35</td>\n",
       "      <td>672</td>\n",
       "    </tr>\n",
       "    <tr>\n",
       "      <th>first</th>\n",
       "      <td>NaN</td>\n",
       "      <td>NaN</td>\n",
       "      <td>NaN</td>\n",
       "      <td>NaN</td>\n",
       "      <td>NaN</td>\n",
       "      <td>NaN</td>\n",
       "      <td>2019-04-01 00:00:00</td>\n",
       "    </tr>\n",
       "    <tr>\n",
       "      <th>last</th>\n",
       "      <td>NaN</td>\n",
       "      <td>NaN</td>\n",
       "      <td>NaN</td>\n",
       "      <td>NaN</td>\n",
       "      <td>NaN</td>\n",
       "      <td>NaN</td>\n",
       "      <td>2019-05-01 00:00:00</td>\n",
       "    </tr>\n",
       "    <tr>\n",
       "      <th>mean</th>\n",
       "      <td>185328.816720</td>\n",
       "      <td>NaN</td>\n",
       "      <td>1.12461</td>\n",
       "      <td>184.431026</td>\n",
       "      <td>NaN</td>\n",
       "      <td>NaN</td>\n",
       "      <td>NaN</td>\n",
       "    </tr>\n",
       "    <tr>\n",
       "      <th>std</th>\n",
       "      <td>5061.520829</td>\n",
       "      <td>NaN</td>\n",
       "      <td>0.43641</td>\n",
       "      <td>330.913377</td>\n",
       "      <td>NaN</td>\n",
       "      <td>NaN</td>\n",
       "      <td>NaN</td>\n",
       "    </tr>\n",
       "    <tr>\n",
       "      <th>min</th>\n",
       "      <td>176558.000000</td>\n",
       "      <td>NaN</td>\n",
       "      <td>1.00000</td>\n",
       "      <td>2.990000</td>\n",
       "      <td>NaN</td>\n",
       "      <td>NaN</td>\n",
       "      <td>NaN</td>\n",
       "    </tr>\n",
       "    <tr>\n",
       "      <th>25%</th>\n",
       "      <td>180952.000000</td>\n",
       "      <td>NaN</td>\n",
       "      <td>1.00000</td>\n",
       "      <td>11.950000</td>\n",
       "      <td>NaN</td>\n",
       "      <td>NaN</td>\n",
       "      <td>NaN</td>\n",
       "    </tr>\n",
       "    <tr>\n",
       "      <th>50%</th>\n",
       "      <td>185328.000000</td>\n",
       "      <td>NaN</td>\n",
       "      <td>1.00000</td>\n",
       "      <td>14.950000</td>\n",
       "      <td>NaN</td>\n",
       "      <td>NaN</td>\n",
       "      <td>NaN</td>\n",
       "    </tr>\n",
       "    <tr>\n",
       "      <th>75%</th>\n",
       "      <td>189706.000000</td>\n",
       "      <td>NaN</td>\n",
       "      <td>1.00000</td>\n",
       "      <td>150.000000</td>\n",
       "      <td>NaN</td>\n",
       "      <td>NaN</td>\n",
       "      <td>NaN</td>\n",
       "    </tr>\n",
       "    <tr>\n",
       "      <th>max</th>\n",
       "      <td>194094.000000</td>\n",
       "      <td>NaN</td>\n",
       "      <td>7.00000</td>\n",
       "      <td>1700.000000</td>\n",
       "      <td>NaN</td>\n",
       "      <td>NaN</td>\n",
       "      <td>NaN</td>\n",
       "    </tr>\n",
       "  </tbody>\n",
       "</table>\n",
       "</div>"
      ],
      "text/plain": [
       "             Order ID                   Product  Quantity Ordered  \\\n",
       "count    18289.000000                     18324       18289.00000   \n",
       "unique            NaN                        20               NaN   \n",
       "top               NaN  Lightning Charging Cable               NaN   \n",
       "freq              NaN                      2201               NaN   \n",
       "first             NaN                       NaN               NaN   \n",
       "last              NaN                       NaN               NaN   \n",
       "mean    185328.816720                       NaN           1.12461   \n",
       "std       5061.520829                       NaN           0.43641   \n",
       "min     176558.000000                       NaN           1.00000   \n",
       "25%     180952.000000                       NaN           1.00000   \n",
       "50%     185328.000000                       NaN           1.00000   \n",
       "75%     189706.000000                       NaN           1.00000   \n",
       "max     194094.000000                       NaN           7.00000   \n",
       "\n",
       "          Price Each  Order Date  Purchase Address                 Date  \n",
       "count   18289.000000       18324             18324                18289  \n",
       "unique           NaN       13584             17120                   31  \n",
       "top              NaN  Order Date  Purchase Address  2019-04-21 00:00:00  \n",
       "freq             NaN          35                35                  672  \n",
       "first            NaN         NaN               NaN  2019-04-01 00:00:00  \n",
       "last             NaN         NaN               NaN  2019-05-01 00:00:00  \n",
       "mean      184.431026         NaN               NaN                  NaN  \n",
       "std       330.913377         NaN               NaN                  NaN  \n",
       "min         2.990000         NaN               NaN                  NaN  \n",
       "25%        11.950000         NaN               NaN                  NaN  \n",
       "50%        14.950000         NaN               NaN                  NaN  \n",
       "75%       150.000000         NaN               NaN                  NaN  \n",
       "max      1700.000000         NaN               NaN                  NaN  "
      ]
     },
     "execution_count": 12,
     "metadata": {},
     "output_type": "execute_result"
    }
   ],
   "source": [
    "df.describe(include='all')"
   ]
  },
  {
   "cell_type": "code",
   "execution_count": 13,
   "id": "e6cb0e8a",
   "metadata": {},
   "outputs": [
    {
     "name": "stdout",
     "output_type": "stream",
     "text": [
      "Order ID  :  94  null value out of  18383 value\n",
      "Product  :  59  null value out of  18383 value\n",
      "Quantity Ordered  :  94  null value out of  18383 value\n",
      "Price Each  :  94  null value out of  18383 value\n",
      "Order Date  :  59  null value out of  18383 value\n",
      "Purchase Address  :  59  null value out of  18383 value\n",
      "Date  :  94  null value out of  18383 value\n"
     ]
    }
   ],
   "source": [
    "# to detect num of missing values \"Null values\" in all dataset using for loop\n",
    "\n",
    "size = len(df)\n",
    "for col in df.columns:\n",
    "    na_val = sum(df[col].isna())\n",
    "    print(col,' : ',na_val,' null value out of ', size , 'value')\n",
    "        "
   ]
  },
  {
   "cell_type": "code",
   "execution_count": null,
   "id": "ceac791d",
   "metadata": {},
   "outputs": [],
   "source": []
  },
  {
   "cell_type": "markdown",
   "id": "a13c1e64",
   "metadata": {},
   "source": [
    "# <a name=EDA>Explratory data analysis(EDA)</a>"
   ]
  },
  {
   "cell_type": "code",
   "execution_count": 14,
   "id": "8a6035e6",
   "metadata": {},
   "outputs": [
    {
     "data": {
      "text/html": [
       "<div>\n",
       "<style scoped>\n",
       "    .dataframe tbody tr th:only-of-type {\n",
       "        vertical-align: middle;\n",
       "    }\n",
       "\n",
       "    .dataframe tbody tr th {\n",
       "        vertical-align: top;\n",
       "    }\n",
       "\n",
       "    .dataframe thead th {\n",
       "        text-align: right;\n",
       "    }\n",
       "</style>\n",
       "<table border=\"1\" class=\"dataframe\">\n",
       "  <thead>\n",
       "    <tr style=\"text-align: right;\">\n",
       "      <th></th>\n",
       "      <th>Order ID</th>\n",
       "      <th>Quantity Ordered</th>\n",
       "      <th>Price Each</th>\n",
       "    </tr>\n",
       "  </thead>\n",
       "  <tbody>\n",
       "    <tr>\n",
       "      <th>count</th>\n",
       "      <td>18289.000000</td>\n",
       "      <td>18289.00000</td>\n",
       "      <td>18289.000000</td>\n",
       "    </tr>\n",
       "    <tr>\n",
       "      <th>mean</th>\n",
       "      <td>185328.816720</td>\n",
       "      <td>1.12461</td>\n",
       "      <td>184.431026</td>\n",
       "    </tr>\n",
       "    <tr>\n",
       "      <th>std</th>\n",
       "      <td>5061.520829</td>\n",
       "      <td>0.43641</td>\n",
       "      <td>330.913377</td>\n",
       "    </tr>\n",
       "    <tr>\n",
       "      <th>min</th>\n",
       "      <td>176558.000000</td>\n",
       "      <td>1.00000</td>\n",
       "      <td>2.990000</td>\n",
       "    </tr>\n",
       "    <tr>\n",
       "      <th>25%</th>\n",
       "      <td>180952.000000</td>\n",
       "      <td>1.00000</td>\n",
       "      <td>11.950000</td>\n",
       "    </tr>\n",
       "    <tr>\n",
       "      <th>50%</th>\n",
       "      <td>185328.000000</td>\n",
       "      <td>1.00000</td>\n",
       "      <td>14.950000</td>\n",
       "    </tr>\n",
       "    <tr>\n",
       "      <th>75%</th>\n",
       "      <td>189706.000000</td>\n",
       "      <td>1.00000</td>\n",
       "      <td>150.000000</td>\n",
       "    </tr>\n",
       "    <tr>\n",
       "      <th>max</th>\n",
       "      <td>194094.000000</td>\n",
       "      <td>7.00000</td>\n",
       "      <td>1700.000000</td>\n",
       "    </tr>\n",
       "  </tbody>\n",
       "</table>\n",
       "</div>"
      ],
      "text/plain": [
       "            Order ID  Quantity Ordered    Price Each\n",
       "count   18289.000000       18289.00000  18289.000000\n",
       "mean   185328.816720           1.12461    184.431026\n",
       "std      5061.520829           0.43641    330.913377\n",
       "min    176558.000000           1.00000      2.990000\n",
       "25%    180952.000000           1.00000     11.950000\n",
       "50%    185328.000000           1.00000     14.950000\n",
       "75%    189706.000000           1.00000    150.000000\n",
       "max    194094.000000           7.00000   1700.000000"
      ]
     },
     "execution_count": 14,
     "metadata": {},
     "output_type": "execute_result"
    }
   ],
   "source": [
    "df.describe()"
   ]
  },
  {
   "cell_type": "code",
   "execution_count": 15,
   "id": "2af521ac",
   "metadata": {},
   "outputs": [],
   "source": [
    "#mask = df['Quantity Ordered']>1 \n",
    "#df[mask]"
   ]
  },
  {
   "cell_type": "code",
   "execution_count": 16,
   "id": "80402427",
   "metadata": {},
   "outputs": [
    {
     "data": {
      "text/plain": [
       "Order ID            94\n",
       "Product             59\n",
       "Quantity Ordered    94\n",
       "Price Each          94\n",
       "Order Date          59\n",
       "Purchase Address    59\n",
       "Date                94\n",
       "dtype: int64"
      ]
     },
     "execution_count": 16,
     "metadata": {},
     "output_type": "execute_result"
    }
   ],
   "source": [
    "df.isna().sum(axis=0)"
   ]
  },
  {
   "cell_type": "code",
   "execution_count": 17,
   "id": "25b91e86",
   "metadata": {},
   "outputs": [
    {
     "data": {
      "text/plain": [
       "(18383, 7)"
      ]
     },
     "execution_count": 17,
     "metadata": {},
     "output_type": "execute_result"
    }
   ],
   "source": [
    "df.shape"
   ]
  },
  {
   "cell_type": "code",
   "execution_count": 18,
   "id": "8d810d07",
   "metadata": {},
   "outputs": [],
   "source": [
    "df.dropna(how='all', inplace=True)"
   ]
  },
  {
   "cell_type": "code",
   "execution_count": 19,
   "id": "084ee67a",
   "metadata": {},
   "outputs": [
    {
     "data": {
      "text/plain": [
       "(18324, 7)"
      ]
     },
     "execution_count": 19,
     "metadata": {},
     "output_type": "execute_result"
    }
   ],
   "source": [
    "df.shape"
   ]
  },
  {
   "cell_type": "code",
   "execution_count": 20,
   "id": "137e0aaa",
   "metadata": {},
   "outputs": [
    {
     "data": {
      "text/html": [
       "<div>\n",
       "<style scoped>\n",
       "    .dataframe tbody tr th:only-of-type {\n",
       "        vertical-align: middle;\n",
       "    }\n",
       "\n",
       "    .dataframe tbody tr th {\n",
       "        vertical-align: top;\n",
       "    }\n",
       "\n",
       "    .dataframe thead th {\n",
       "        text-align: right;\n",
       "    }\n",
       "</style>\n",
       "<table border=\"1\" class=\"dataframe\">\n",
       "  <thead>\n",
       "    <tr style=\"text-align: right;\">\n",
       "      <th></th>\n",
       "      <th>Order ID</th>\n",
       "      <th>Product</th>\n",
       "      <th>Quantity Ordered</th>\n",
       "      <th>Price Each</th>\n",
       "      <th>Order Date</th>\n",
       "      <th>Purchase Address</th>\n",
       "      <th>Date</th>\n",
       "    </tr>\n",
       "  </thead>\n",
       "  <tbody>\n",
       "    <tr>\n",
       "      <th>0</th>\n",
       "      <td>176558.0</td>\n",
       "      <td>USB-C Charging Cable</td>\n",
       "      <td>2.0</td>\n",
       "      <td>11.95</td>\n",
       "      <td>04/19/19 08:46</td>\n",
       "      <td>917 1st St, Dallas, TX 75001</td>\n",
       "      <td>2019-04-19</td>\n",
       "    </tr>\n",
       "    <tr>\n",
       "      <th>2</th>\n",
       "      <td>176559.0</td>\n",
       "      <td>Bose SoundSport Headphones</td>\n",
       "      <td>1.0</td>\n",
       "      <td>99.99</td>\n",
       "      <td>04/07/19 22:30</td>\n",
       "      <td>682 Chestnut St, Boston, MA 02215</td>\n",
       "      <td>2019-04-07</td>\n",
       "    </tr>\n",
       "    <tr>\n",
       "      <th>3</th>\n",
       "      <td>176560.0</td>\n",
       "      <td>Google Phone</td>\n",
       "      <td>1.0</td>\n",
       "      <td>600.00</td>\n",
       "      <td>04/12/19 14:38</td>\n",
       "      <td>669 Spruce St, Los Angeles, CA 90001</td>\n",
       "      <td>2019-04-12</td>\n",
       "    </tr>\n",
       "    <tr>\n",
       "      <th>4</th>\n",
       "      <td>176560.0</td>\n",
       "      <td>Wired Headphones</td>\n",
       "      <td>1.0</td>\n",
       "      <td>11.99</td>\n",
       "      <td>04/12/19 14:38</td>\n",
       "      <td>669 Spruce St, Los Angeles, CA 90001</td>\n",
       "      <td>2019-04-12</td>\n",
       "    </tr>\n",
       "    <tr>\n",
       "      <th>5</th>\n",
       "      <td>176561.0</td>\n",
       "      <td>Wired Headphones</td>\n",
       "      <td>1.0</td>\n",
       "      <td>11.99</td>\n",
       "      <td>04/30/19 09:27</td>\n",
       "      <td>333 8th St, Los Angeles, CA 90001</td>\n",
       "      <td>2019-04-30</td>\n",
       "    </tr>\n",
       "    <tr>\n",
       "      <th>...</th>\n",
       "      <td>...</td>\n",
       "      <td>...</td>\n",
       "      <td>...</td>\n",
       "      <td>...</td>\n",
       "      <td>...</td>\n",
       "      <td>...</td>\n",
       "      <td>...</td>\n",
       "    </tr>\n",
       "    <tr>\n",
       "      <th>18378</th>\n",
       "      <td>194090.0</td>\n",
       "      <td>Google Phone</td>\n",
       "      <td>1.0</td>\n",
       "      <td>600.00</td>\n",
       "      <td>04/08/19 17:11</td>\n",
       "      <td>177 Jackson St, Los Angeles, CA 90001</td>\n",
       "      <td>2019-04-08</td>\n",
       "    </tr>\n",
       "    <tr>\n",
       "      <th>18379</th>\n",
       "      <td>194091.0</td>\n",
       "      <td>AA Batteries (4-pack)</td>\n",
       "      <td>1.0</td>\n",
       "      <td>3.84</td>\n",
       "      <td>04/15/19 16:02</td>\n",
       "      <td>311 Forest St, Austin, TX 73301</td>\n",
       "      <td>2019-04-15</td>\n",
       "    </tr>\n",
       "    <tr>\n",
       "      <th>18380</th>\n",
       "      <td>194092.0</td>\n",
       "      <td>AAA Batteries (4-pack)</td>\n",
       "      <td>2.0</td>\n",
       "      <td>2.99</td>\n",
       "      <td>04/28/19 14:36</td>\n",
       "      <td>347 Sunset St, San Francisco, CA 94016</td>\n",
       "      <td>2019-04-28</td>\n",
       "    </tr>\n",
       "    <tr>\n",
       "      <th>18381</th>\n",
       "      <td>194093.0</td>\n",
       "      <td>AA Batteries (4-pack)</td>\n",
       "      <td>1.0</td>\n",
       "      <td>3.84</td>\n",
       "      <td>04/14/19 15:09</td>\n",
       "      <td>835 Lake St, Portland, OR 97035</td>\n",
       "      <td>2019-04-14</td>\n",
       "    </tr>\n",
       "    <tr>\n",
       "      <th>18382</th>\n",
       "      <td>194094.0</td>\n",
       "      <td>Lightning Charging Cable</td>\n",
       "      <td>1.0</td>\n",
       "      <td>14.95</td>\n",
       "      <td>04/18/19 11:08</td>\n",
       "      <td>354 North St, Boston, MA 02215</td>\n",
       "      <td>2019-04-18</td>\n",
       "    </tr>\n",
       "  </tbody>\n",
       "</table>\n",
       "<p>18324 rows × 7 columns</p>\n",
       "</div>"
      ],
      "text/plain": [
       "       Order ID                     Product  Quantity Ordered  Price Each  \\\n",
       "0      176558.0        USB-C Charging Cable               2.0       11.95   \n",
       "2      176559.0  Bose SoundSport Headphones               1.0       99.99   \n",
       "3      176560.0                Google Phone               1.0      600.00   \n",
       "4      176560.0            Wired Headphones               1.0       11.99   \n",
       "5      176561.0            Wired Headphones               1.0       11.99   \n",
       "...         ...                         ...               ...         ...   \n",
       "18378  194090.0                Google Phone               1.0      600.00   \n",
       "18379  194091.0       AA Batteries (4-pack)               1.0        3.84   \n",
       "18380  194092.0      AAA Batteries (4-pack)               2.0        2.99   \n",
       "18381  194093.0       AA Batteries (4-pack)               1.0        3.84   \n",
       "18382  194094.0    Lightning Charging Cable               1.0       14.95   \n",
       "\n",
       "           Order Date                        Purchase Address       Date  \n",
       "0      04/19/19 08:46            917 1st St, Dallas, TX 75001 2019-04-19  \n",
       "2      04/07/19 22:30       682 Chestnut St, Boston, MA 02215 2019-04-07  \n",
       "3      04/12/19 14:38    669 Spruce St, Los Angeles, CA 90001 2019-04-12  \n",
       "4      04/12/19 14:38    669 Spruce St, Los Angeles, CA 90001 2019-04-12  \n",
       "5      04/30/19 09:27       333 8th St, Los Angeles, CA 90001 2019-04-30  \n",
       "...               ...                                     ...        ...  \n",
       "18378  04/08/19 17:11   177 Jackson St, Los Angeles, CA 90001 2019-04-08  \n",
       "18379  04/15/19 16:02         311 Forest St, Austin, TX 73301 2019-04-15  \n",
       "18380  04/28/19 14:36  347 Sunset St, San Francisco, CA 94016 2019-04-28  \n",
       "18381  04/14/19 15:09         835 Lake St, Portland, OR 97035 2019-04-14  \n",
       "18382  04/18/19 11:08          354 North St, Boston, MA 02215 2019-04-18  \n",
       "\n",
       "[18324 rows x 7 columns]"
      ]
     },
     "execution_count": 20,
     "metadata": {},
     "output_type": "execute_result"
    }
   ],
   "source": [
    "df"
   ]
  },
  {
   "cell_type": "code",
   "execution_count": 21,
   "id": "1fcc11d3",
   "metadata": {},
   "outputs": [
    {
     "data": {
      "text/plain": [
       "Order ID            35\n",
       "Product              0\n",
       "Quantity Ordered    35\n",
       "Price Each          35\n",
       "Order Date           0\n",
       "Purchase Address     0\n",
       "Date                35\n",
       "dtype: int64"
      ]
     },
     "execution_count": 21,
     "metadata": {},
     "output_type": "execute_result"
    }
   ],
   "source": [
    "#after del null values\n",
    "df.isna().sum(axis=0)"
   ]
  },
  {
   "cell_type": "markdown",
   "id": "ea6a0126",
   "metadata": {},
   "source": [
    "# <a name=Questions>Questions</a>"
   ]
  },
  {
   "cell_type": "markdown",
   "id": "d7e9efea",
   "metadata": {},
   "source": [
    "# <a name=Qun>Qunclosion</a>"
   ]
  }
 ],
 "metadata": {
  "kernelspec": {
   "display_name": "Python 3",
   "language": "python",
   "name": "python3"
  },
  "language_info": {
   "codemirror_mode": {
    "name": "ipython",
    "version": 3
   },
   "file_extension": ".py",
   "mimetype": "text/x-python",
   "name": "python",
   "nbconvert_exporter": "python",
   "pygments_lexer": "ipython3",
   "version": "3.8.8"
  }
 },
 "nbformat": 4,
 "nbformat_minor": 5
}
